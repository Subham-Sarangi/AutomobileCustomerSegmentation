{
 "cells": [
  {
   "cell_type": "code",
   "execution_count": 86,
   "id": "85c32701",
   "metadata": {},
   "outputs": [],
   "source": [
    "import os\n",
    "import warnings\n",
    "import numpy as np \n",
    "import pandas as pd \n",
    "import matplotlib.pyplot as plt\n",
    "import seaborn as sns\n",
    "from plotly.subplots import make_subplots\n",
    "import pickle\n",
    "import plotly.graph_objects as go\n",
    "import plotly.express as px \n",
    "from sklearn.svm import SVC\n",
    "from sklearn import tree\n",
    "from sklearn.preprocessing import MinMaxScaler\n",
    "from sklearn.metrics import roc_curve\n",
    "from sklearn.model_selection import KFold\n",
    "from sklearn.tree import DecisionTreeClassifier\n",
    "from sklearn.ensemble import RandomForestClassifier\n",
    "from sklearn.model_selection import cross_val_score\n",
    "from sklearn.preprocessing import StandardScaler, LabelEncoder,OneHotEncoder\n",
    "from sklearn.linear_model import LogisticRegression\n",
    "from sklearn.neighbors import KNeighborsClassifier\n",
    "from sklearn.neighbors import KNeighborsClassifier\n",
    "from sklearn.ensemble import GradientBoostingClassifier\n",
    "from sklearn.ensemble import RandomForestClassifier\n",
    "from sklearn.naive_bayes import GaussianNB\n",
    "from sklearn.model_selection import train_test_split\n",
    "from sklearn.metrics import precision_score, recall_score\n",
    "from sklearn.metrics import *\n",
    "from sklearn.model_selection import GridSearchCV\n",
    "pd.set_option('display.max_columns',None)\n",
    "warnings.filterwarnings('ignore')"
   ]
  },
  {
   "cell_type": "markdown",
   "id": "104fa2bf",
   "metadata": {},
   "source": [
    "## <font color='Green'>1.0 Loading Data</font>"
   ]
  },
  {
   "cell_type": "code",
   "execution_count": 87,
   "id": "5ab2a5d2",
   "metadata": {},
   "outputs": [
    {
     "data": {
      "text/html": [
       "<div>\n",
       "<style scoped>\n",
       "    .dataframe tbody tr th:only-of-type {\n",
       "        vertical-align: middle;\n",
       "    }\n",
       "\n",
       "    .dataframe tbody tr th {\n",
       "        vertical-align: top;\n",
       "    }\n",
       "\n",
       "    .dataframe thead th {\n",
       "        text-align: right;\n",
       "    }\n",
       "</style>\n",
       "<table border=\"1\" class=\"dataframe\">\n",
       "  <thead>\n",
       "    <tr style=\"text-align: right;\">\n",
       "      <th></th>\n",
       "      <th>ID</th>\n",
       "      <th>symboling</th>\n",
       "      <th>normalized-losses</th>\n",
       "      <th>make</th>\n",
       "      <th>fuel-type</th>\n",
       "      <th>aspiration</th>\n",
       "      <th>num-of-doors</th>\n",
       "      <th>body-style</th>\n",
       "      <th>drive-wheels</th>\n",
       "      <th>engine-location</th>\n",
       "      <th>wheel-base</th>\n",
       "      <th>length</th>\n",
       "      <th>width</th>\n",
       "      <th>height</th>\n",
       "      <th>curb-weight</th>\n",
       "      <th>engine-type</th>\n",
       "      <th>num-of-cylinders</th>\n",
       "      <th>engine-size</th>\n",
       "      <th>fuel-system</th>\n",
       "      <th>bore</th>\n",
       "      <th>stroke</th>\n",
       "      <th>compression-ratio</th>\n",
       "      <th>horsepower</th>\n",
       "      <th>peak-rpm</th>\n",
       "      <th>city-mpg</th>\n",
       "      <th>highway-mpg</th>\n",
       "      <th>price</th>\n",
       "    </tr>\n",
       "  </thead>\n",
       "  <tbody>\n",
       "    <tr>\n",
       "      <th>0</th>\n",
       "      <td>0</td>\n",
       "      <td>3</td>\n",
       "      <td>NaN</td>\n",
       "      <td>alfa-romero</td>\n",
       "      <td>gas</td>\n",
       "      <td>std</td>\n",
       "      <td>two</td>\n",
       "      <td>convertible</td>\n",
       "      <td>rwd</td>\n",
       "      <td>front</td>\n",
       "      <td>88.6</td>\n",
       "      <td>168.8</td>\n",
       "      <td>64.1</td>\n",
       "      <td>48.8</td>\n",
       "      <td>2548</td>\n",
       "      <td>dohc</td>\n",
       "      <td>four</td>\n",
       "      <td>130</td>\n",
       "      <td>mpfi</td>\n",
       "      <td>3.47</td>\n",
       "      <td>2.68</td>\n",
       "      <td>9.0</td>\n",
       "      <td>111.0</td>\n",
       "      <td>5000.0</td>\n",
       "      <td>21</td>\n",
       "      <td>27</td>\n",
       "      <td>13495.0</td>\n",
       "    </tr>\n",
       "    <tr>\n",
       "      <th>1</th>\n",
       "      <td>1</td>\n",
       "      <td>3</td>\n",
       "      <td>NaN</td>\n",
       "      <td>alfa-romero</td>\n",
       "      <td>gas</td>\n",
       "      <td>std</td>\n",
       "      <td>two</td>\n",
       "      <td>convertible</td>\n",
       "      <td>rwd</td>\n",
       "      <td>front</td>\n",
       "      <td>88.6</td>\n",
       "      <td>168.8</td>\n",
       "      <td>64.1</td>\n",
       "      <td>48.8</td>\n",
       "      <td>2548</td>\n",
       "      <td>dohc</td>\n",
       "      <td>four</td>\n",
       "      <td>130</td>\n",
       "      <td>mpfi</td>\n",
       "      <td>3.47</td>\n",
       "      <td>2.68</td>\n",
       "      <td>9.0</td>\n",
       "      <td>111.0</td>\n",
       "      <td>5000.0</td>\n",
       "      <td>21</td>\n",
       "      <td>27</td>\n",
       "      <td>16500.0</td>\n",
       "    </tr>\n",
       "    <tr>\n",
       "      <th>2</th>\n",
       "      <td>2</td>\n",
       "      <td>1</td>\n",
       "      <td>NaN</td>\n",
       "      <td>alfa-romero</td>\n",
       "      <td>gas</td>\n",
       "      <td>std</td>\n",
       "      <td>two</td>\n",
       "      <td>hatchback</td>\n",
       "      <td>rwd</td>\n",
       "      <td>front</td>\n",
       "      <td>94.5</td>\n",
       "      <td>171.2</td>\n",
       "      <td>65.5</td>\n",
       "      <td>52.4</td>\n",
       "      <td>2823</td>\n",
       "      <td>ohcv</td>\n",
       "      <td>six</td>\n",
       "      <td>152</td>\n",
       "      <td>mpfi</td>\n",
       "      <td>2.68</td>\n",
       "      <td>3.47</td>\n",
       "      <td>9.0</td>\n",
       "      <td>154.0</td>\n",
       "      <td>5000.0</td>\n",
       "      <td>19</td>\n",
       "      <td>26</td>\n",
       "      <td>16500.0</td>\n",
       "    </tr>\n",
       "    <tr>\n",
       "      <th>3</th>\n",
       "      <td>3</td>\n",
       "      <td>2</td>\n",
       "      <td>164.0</td>\n",
       "      <td>audi</td>\n",
       "      <td>gas</td>\n",
       "      <td>std</td>\n",
       "      <td>four</td>\n",
       "      <td>sedan</td>\n",
       "      <td>fwd</td>\n",
       "      <td>front</td>\n",
       "      <td>99.8</td>\n",
       "      <td>176.6</td>\n",
       "      <td>66.2</td>\n",
       "      <td>54.3</td>\n",
       "      <td>2337</td>\n",
       "      <td>ohc</td>\n",
       "      <td>four</td>\n",
       "      <td>109</td>\n",
       "      <td>mpfi</td>\n",
       "      <td>3.19</td>\n",
       "      <td>3.40</td>\n",
       "      <td>10.0</td>\n",
       "      <td>102.0</td>\n",
       "      <td>5500.0</td>\n",
       "      <td>24</td>\n",
       "      <td>30</td>\n",
       "      <td>13950.0</td>\n",
       "    </tr>\n",
       "    <tr>\n",
       "      <th>4</th>\n",
       "      <td>4</td>\n",
       "      <td>2</td>\n",
       "      <td>164.0</td>\n",
       "      <td>audi</td>\n",
       "      <td>gas</td>\n",
       "      <td>std</td>\n",
       "      <td>four</td>\n",
       "      <td>sedan</td>\n",
       "      <td>4wd</td>\n",
       "      <td>front</td>\n",
       "      <td>99.4</td>\n",
       "      <td>176.6</td>\n",
       "      <td>66.4</td>\n",
       "      <td>54.3</td>\n",
       "      <td>2824</td>\n",
       "      <td>ohc</td>\n",
       "      <td>five</td>\n",
       "      <td>136</td>\n",
       "      <td>mpfi</td>\n",
       "      <td>3.19</td>\n",
       "      <td>3.40</td>\n",
       "      <td>8.0</td>\n",
       "      <td>115.0</td>\n",
       "      <td>5500.0</td>\n",
       "      <td>18</td>\n",
       "      <td>22</td>\n",
       "      <td>17450.0</td>\n",
       "    </tr>\n",
       "  </tbody>\n",
       "</table>\n",
       "</div>"
      ],
      "text/plain": [
       "   ID  symboling  normalized-losses         make fuel-type aspiration  \\\n",
       "0   0          3                NaN  alfa-romero       gas        std   \n",
       "1   1          3                NaN  alfa-romero       gas        std   \n",
       "2   2          1                NaN  alfa-romero       gas        std   \n",
       "3   3          2              164.0         audi       gas        std   \n",
       "4   4          2              164.0         audi       gas        std   \n",
       "\n",
       "  num-of-doors   body-style drive-wheels engine-location  wheel-base  length  \\\n",
       "0          two  convertible          rwd           front        88.6   168.8   \n",
       "1          two  convertible          rwd           front        88.6   168.8   \n",
       "2          two    hatchback          rwd           front        94.5   171.2   \n",
       "3         four        sedan          fwd           front        99.8   176.6   \n",
       "4         four        sedan          4wd           front        99.4   176.6   \n",
       "\n",
       "   width  height  curb-weight engine-type num-of-cylinders  engine-size  \\\n",
       "0   64.1    48.8         2548        dohc             four          130   \n",
       "1   64.1    48.8         2548        dohc             four          130   \n",
       "2   65.5    52.4         2823        ohcv              six          152   \n",
       "3   66.2    54.3         2337         ohc             four          109   \n",
       "4   66.4    54.3         2824         ohc             five          136   \n",
       "\n",
       "  fuel-system  bore  stroke  compression-ratio  horsepower  peak-rpm  \\\n",
       "0        mpfi  3.47    2.68                9.0       111.0    5000.0   \n",
       "1        mpfi  3.47    2.68                9.0       111.0    5000.0   \n",
       "2        mpfi  2.68    3.47                9.0       154.0    5000.0   \n",
       "3        mpfi  3.19    3.40               10.0       102.0    5500.0   \n",
       "4        mpfi  3.19    3.40                8.0       115.0    5500.0   \n",
       "\n",
       "   city-mpg  highway-mpg    price  \n",
       "0        21           27  13495.0  \n",
       "1        21           27  16500.0  \n",
       "2        19           26  16500.0  \n",
       "3        24           30  13950.0  \n",
       "4        18           22  17450.0  "
      ]
     },
     "execution_count": 87,
     "metadata": {},
     "output_type": "execute_result"
    }
   ],
   "source": [
    "df =pd.read_csv('automobile.csv')\n",
    "df.head(5)"
   ]
  },
  {
   "cell_type": "markdown",
   "id": "3c5a73f8",
   "metadata": {},
   "source": [
    "## <font color='Green'>1.1 Understanding the Dataset</font>"
   ]
  },
  {
   "cell_type": "code",
   "execution_count": 88,
   "id": "32abebff",
   "metadata": {},
   "outputs": [
    {
     "data": {
      "text/html": [
       "<div>\n",
       "<style scoped>\n",
       "    .dataframe tbody tr th:only-of-type {\n",
       "        vertical-align: middle;\n",
       "    }\n",
       "\n",
       "    .dataframe tbody tr th {\n",
       "        vertical-align: top;\n",
       "    }\n",
       "\n",
       "    .dataframe thead th {\n",
       "        text-align: right;\n",
       "    }\n",
       "</style>\n",
       "<table border=\"1\" class=\"dataframe\">\n",
       "  <thead>\n",
       "    <tr style=\"text-align: right;\">\n",
       "      <th></th>\n",
       "      <th>ID</th>\n",
       "      <th>symboling</th>\n",
       "      <th>normalized-losses</th>\n",
       "      <th>wheel-base</th>\n",
       "      <th>length</th>\n",
       "      <th>width</th>\n",
       "      <th>height</th>\n",
       "      <th>curb-weight</th>\n",
       "      <th>engine-size</th>\n",
       "      <th>bore</th>\n",
       "      <th>stroke</th>\n",
       "      <th>compression-ratio</th>\n",
       "      <th>horsepower</th>\n",
       "      <th>peak-rpm</th>\n",
       "      <th>city-mpg</th>\n",
       "      <th>highway-mpg</th>\n",
       "      <th>price</th>\n",
       "    </tr>\n",
       "  </thead>\n",
       "  <tbody>\n",
       "    <tr>\n",
       "      <th>count</th>\n",
       "      <td>204.000000</td>\n",
       "      <td>204.000000</td>\n",
       "      <td>163.000000</td>\n",
       "      <td>204.000000</td>\n",
       "      <td>204.000000</td>\n",
       "      <td>204.000000</td>\n",
       "      <td>204.000000</td>\n",
       "      <td>204.000000</td>\n",
       "      <td>204.00000</td>\n",
       "      <td>200.000000</td>\n",
       "      <td>200.000000</td>\n",
       "      <td>204.000000</td>\n",
       "      <td>202.000000</td>\n",
       "      <td>202.000000</td>\n",
       "      <td>204.000000</td>\n",
       "      <td>204.000000</td>\n",
       "      <td>200.000000</td>\n",
       "    </tr>\n",
       "    <tr>\n",
       "      <th>mean</th>\n",
       "      <td>102.367647</td>\n",
       "      <td>0.833333</td>\n",
       "      <td>121.840491</td>\n",
       "      <td>98.781373</td>\n",
       "      <td>174.131373</td>\n",
       "      <td>65.918137</td>\n",
       "      <td>53.740196</td>\n",
       "      <td>2557.352941</td>\n",
       "      <td>127.04902</td>\n",
       "      <td>3.331250</td>\n",
       "      <td>3.254750</td>\n",
       "      <td>10.155000</td>\n",
       "      <td>104.267327</td>\n",
       "      <td>5123.514851</td>\n",
       "      <td>25.225490</td>\n",
       "      <td>30.754902</td>\n",
       "      <td>13230.375000</td>\n",
       "    </tr>\n",
       "    <tr>\n",
       "      <th>std</th>\n",
       "      <td>59.233920</td>\n",
       "      <td>1.248316</td>\n",
       "      <td>35.492292</td>\n",
       "      <td>6.026096</td>\n",
       "      <td>12.311367</td>\n",
       "      <td>2.145361</td>\n",
       "      <td>2.439646</td>\n",
       "      <td>521.330463</td>\n",
       "      <td>41.69556</td>\n",
       "      <td>0.273397</td>\n",
       "      <td>0.317368</td>\n",
       "      <td>3.977791</td>\n",
       "      <td>39.812719</td>\n",
       "      <td>479.794755</td>\n",
       "      <td>6.557674</td>\n",
       "      <td>6.903182</td>\n",
       "      <td>7960.155239</td>\n",
       "    </tr>\n",
       "    <tr>\n",
       "      <th>min</th>\n",
       "      <td>0.000000</td>\n",
       "      <td>-2.000000</td>\n",
       "      <td>65.000000</td>\n",
       "      <td>86.600000</td>\n",
       "      <td>141.100000</td>\n",
       "      <td>60.300000</td>\n",
       "      <td>47.800000</td>\n",
       "      <td>1488.000000</td>\n",
       "      <td>61.00000</td>\n",
       "      <td>2.540000</td>\n",
       "      <td>2.070000</td>\n",
       "      <td>7.000000</td>\n",
       "      <td>48.000000</td>\n",
       "      <td>4150.000000</td>\n",
       "      <td>13.000000</td>\n",
       "      <td>16.000000</td>\n",
       "      <td>5118.000000</td>\n",
       "    </tr>\n",
       "    <tr>\n",
       "      <th>25%</th>\n",
       "      <td>51.750000</td>\n",
       "      <td>0.000000</td>\n",
       "      <td>94.000000</td>\n",
       "      <td>94.500000</td>\n",
       "      <td>166.675000</td>\n",
       "      <td>64.100000</td>\n",
       "      <td>52.000000</td>\n",
       "      <td>2145.000000</td>\n",
       "      <td>97.00000</td>\n",
       "      <td>3.150000</td>\n",
       "      <td>3.110000</td>\n",
       "      <td>8.600000</td>\n",
       "      <td>70.000000</td>\n",
       "      <td>4800.000000</td>\n",
       "      <td>19.000000</td>\n",
       "      <td>25.000000</td>\n",
       "      <td>7775.000000</td>\n",
       "    </tr>\n",
       "    <tr>\n",
       "      <th>50%</th>\n",
       "      <td>102.500000</td>\n",
       "      <td>1.000000</td>\n",
       "      <td>115.000000</td>\n",
       "      <td>97.000000</td>\n",
       "      <td>173.200000</td>\n",
       "      <td>65.500000</td>\n",
       "      <td>54.100000</td>\n",
       "      <td>2417.000000</td>\n",
       "      <td>120.00000</td>\n",
       "      <td>3.310000</td>\n",
       "      <td>3.290000</td>\n",
       "      <td>9.000000</td>\n",
       "      <td>95.000000</td>\n",
       "      <td>5200.000000</td>\n",
       "      <td>24.000000</td>\n",
       "      <td>30.000000</td>\n",
       "      <td>10320.000000</td>\n",
       "    </tr>\n",
       "    <tr>\n",
       "      <th>75%</th>\n",
       "      <td>153.250000</td>\n",
       "      <td>2.000000</td>\n",
       "      <td>150.000000</td>\n",
       "      <td>102.400000</td>\n",
       "      <td>183.200000</td>\n",
       "      <td>66.900000</td>\n",
       "      <td>55.500000</td>\n",
       "      <td>2939.250000</td>\n",
       "      <td>142.00000</td>\n",
       "      <td>3.590000</td>\n",
       "      <td>3.410000</td>\n",
       "      <td>9.400000</td>\n",
       "      <td>116.000000</td>\n",
       "      <td>5500.000000</td>\n",
       "      <td>30.000000</td>\n",
       "      <td>34.500000</td>\n",
       "      <td>16500.750000</td>\n",
       "    </tr>\n",
       "    <tr>\n",
       "      <th>max</th>\n",
       "      <td>204.000000</td>\n",
       "      <td>3.000000</td>\n",
       "      <td>256.000000</td>\n",
       "      <td>120.900000</td>\n",
       "      <td>208.100000</td>\n",
       "      <td>72.300000</td>\n",
       "      <td>59.800000</td>\n",
       "      <td>4066.000000</td>\n",
       "      <td>326.00000</td>\n",
       "      <td>3.940000</td>\n",
       "      <td>4.170000</td>\n",
       "      <td>23.000000</td>\n",
       "      <td>288.000000</td>\n",
       "      <td>6600.000000</td>\n",
       "      <td>49.000000</td>\n",
       "      <td>54.000000</td>\n",
       "      <td>45400.000000</td>\n",
       "    </tr>\n",
       "  </tbody>\n",
       "</table>\n",
       "</div>"
      ],
      "text/plain": [
       "               ID   symboling  normalized-losses  wheel-base      length  \\\n",
       "count  204.000000  204.000000         163.000000  204.000000  204.000000   \n",
       "mean   102.367647    0.833333         121.840491   98.781373  174.131373   \n",
       "std     59.233920    1.248316          35.492292    6.026096   12.311367   \n",
       "min      0.000000   -2.000000          65.000000   86.600000  141.100000   \n",
       "25%     51.750000    0.000000          94.000000   94.500000  166.675000   \n",
       "50%    102.500000    1.000000         115.000000   97.000000  173.200000   \n",
       "75%    153.250000    2.000000         150.000000  102.400000  183.200000   \n",
       "max    204.000000    3.000000         256.000000  120.900000  208.100000   \n",
       "\n",
       "            width      height  curb-weight  engine-size        bore  \\\n",
       "count  204.000000  204.000000   204.000000    204.00000  200.000000   \n",
       "mean    65.918137   53.740196  2557.352941    127.04902    3.331250   \n",
       "std      2.145361    2.439646   521.330463     41.69556    0.273397   \n",
       "min     60.300000   47.800000  1488.000000     61.00000    2.540000   \n",
       "25%     64.100000   52.000000  2145.000000     97.00000    3.150000   \n",
       "50%     65.500000   54.100000  2417.000000    120.00000    3.310000   \n",
       "75%     66.900000   55.500000  2939.250000    142.00000    3.590000   \n",
       "max     72.300000   59.800000  4066.000000    326.00000    3.940000   \n",
       "\n",
       "           stroke  compression-ratio  horsepower     peak-rpm    city-mpg  \\\n",
       "count  200.000000         204.000000  202.000000   202.000000  204.000000   \n",
       "mean     3.254750          10.155000  104.267327  5123.514851   25.225490   \n",
       "std      0.317368           3.977791   39.812719   479.794755    6.557674   \n",
       "min      2.070000           7.000000   48.000000  4150.000000   13.000000   \n",
       "25%      3.110000           8.600000   70.000000  4800.000000   19.000000   \n",
       "50%      3.290000           9.000000   95.000000  5200.000000   24.000000   \n",
       "75%      3.410000           9.400000  116.000000  5500.000000   30.000000   \n",
       "max      4.170000          23.000000  288.000000  6600.000000   49.000000   \n",
       "\n",
       "       highway-mpg         price  \n",
       "count   204.000000    200.000000  \n",
       "mean     30.754902  13230.375000  \n",
       "std       6.903182   7960.155239  \n",
       "min      16.000000   5118.000000  \n",
       "25%      25.000000   7775.000000  \n",
       "50%      30.000000  10320.000000  \n",
       "75%      34.500000  16500.750000  \n",
       "max      54.000000  45400.000000  "
      ]
     },
     "execution_count": 88,
     "metadata": {},
     "output_type": "execute_result"
    }
   ],
   "source": [
    "df.describe()"
   ]
  },
  {
   "cell_type": "code",
   "execution_count": 89,
   "id": "4bbf519a",
   "metadata": {},
   "outputs": [
    {
     "name": "stdout",
     "output_type": "stream",
     "text": [
      "<class 'pandas.core.frame.DataFrame'>\n",
      "RangeIndex: 204 entries, 0 to 203\n",
      "Data columns (total 27 columns):\n",
      " #   Column             Non-Null Count  Dtype  \n",
      "---  ------             --------------  -----  \n",
      " 0   ID                 204 non-null    int64  \n",
      " 1   symboling          204 non-null    int64  \n",
      " 2   normalized-losses  163 non-null    float64\n",
      " 3   make               204 non-null    object \n",
      " 4   fuel-type          204 non-null    object \n",
      " 5   aspiration         204 non-null    object \n",
      " 6   num-of-doors       203 non-null    object \n",
      " 7   body-style         204 non-null    object \n",
      " 8   drive-wheels       204 non-null    object \n",
      " 9   engine-location    204 non-null    object \n",
      " 10  wheel-base         204 non-null    float64\n",
      " 11  length             204 non-null    float64\n",
      " 12  width              204 non-null    float64\n",
      " 13  height             204 non-null    float64\n",
      " 14  curb-weight        204 non-null    int64  \n",
      " 15  engine-type        204 non-null    object \n",
      " 16  num-of-cylinders   204 non-null    object \n",
      " 17  engine-size        204 non-null    int64  \n",
      " 18  fuel-system        204 non-null    object \n",
      " 19  bore               200 non-null    float64\n",
      " 20  stroke             200 non-null    float64\n",
      " 21  compression-ratio  204 non-null    float64\n",
      " 22  horsepower         202 non-null    float64\n",
      " 23  peak-rpm           202 non-null    float64\n",
      " 24  city-mpg           204 non-null    int64  \n",
      " 25  highway-mpg        204 non-null    int64  \n",
      " 26  price              200 non-null    float64\n",
      "dtypes: float64(11), int64(6), object(10)\n",
      "memory usage: 43.2+ KB\n"
     ]
    }
   ],
   "source": [
    "df.info()"
   ]
  },
  {
   "cell_type": "code",
   "execution_count": null,
   "id": "a330585b",
   "metadata": {},
   "outputs": [],
   "source": []
  },
  {
   "cell_type": "code",
   "execution_count": 90,
   "id": "3d856836",
   "metadata": {},
   "outputs": [],
   "source": [
    "#Dropping ID which is not required for the analysis\n",
    "df.drop('ID', axis=1, inplace=True)"
   ]
  },
  {
   "cell_type": "code",
   "execution_count": 31,
   "id": "6743c5ac",
   "metadata": {},
   "outputs": [
    {
     "name": "stdout",
     "output_type": "stream",
     "text": [
      "int64\n",
      "float64\n",
      "object\n",
      "object\n",
      "object\n",
      "object\n",
      "object\n",
      "object\n",
      "object\n",
      "float64\n",
      "float64\n",
      "float64\n",
      "float64\n",
      "int64\n",
      "object\n",
      "object\n",
      "int64\n",
      "object\n",
      "float64\n",
      "float64\n",
      "float64\n",
      "float64\n",
      "float64\n",
      "int64\n",
      "int64\n",
      "float64\n"
     ]
    },
    {
     "data": {
      "text/plain": [
       "normalized-losses     51\n",
       "make                  22\n",
       "fuel-type              2\n",
       "aspiration             2\n",
       "num-of-doors           2\n",
       "body-style             5\n",
       "drive-wheels           3\n",
       "engine-location        2\n",
       "wheel-base            53\n",
       "length                75\n",
       "width                 44\n",
       "height                49\n",
       "engine-type            7\n",
       "num-of-cylinders       7\n",
       "fuel-system            8\n",
       "bore                  38\n",
       "stroke                36\n",
       "compression-ratio     32\n",
       "horsepower            59\n",
       "peak-rpm              23\n",
       "price                186\n",
       "dtype: int64"
      ]
     },
     "execution_count": 31,
     "metadata": {},
     "output_type": "execute_result"
    }
   ],
   "source": [
    "cont_features = []\n",
    "cat_features = []\n",
    "\n",
    "for c in df.columns:\n",
    "    if df[c].dtype == 'int64':\n",
    "        print(df[c].dtype)\n",
    "        cont_features += [c]\n",
    "    else:\n",
    "        print(df[c].dtype)\n",
    "        cat_features += [c]\n",
    "# df[cat_features].nunique()\n",
    "df[cont_features].nunique()"
   ]
  },
  {
   "cell_type": "markdown",
   "id": "25a496d8",
   "metadata": {},
   "source": [
    "## Checking for Missing Values"
   ]
  },
  {
   "cell_type": "code",
   "execution_count": 91,
   "id": "c2000a10",
   "metadata": {},
   "outputs": [
    {
     "data": {
      "text/plain": [
       "symboling             0\n",
       "normalized-losses    41\n",
       "make                  0\n",
       "fuel-type             0\n",
       "aspiration            0\n",
       "num-of-doors          1\n",
       "body-style            0\n",
       "drive-wheels          0\n",
       "engine-location       0\n",
       "wheel-base            0\n",
       "length                0\n",
       "width                 0\n",
       "height                0\n",
       "curb-weight           0\n",
       "engine-type           0\n",
       "num-of-cylinders      0\n",
       "engine-size           0\n",
       "fuel-system           0\n",
       "bore                  4\n",
       "stroke                4\n",
       "compression-ratio     0\n",
       "horsepower            2\n",
       "peak-rpm              2\n",
       "city-mpg              0\n",
       "highway-mpg           0\n",
       "price                 4\n",
       "dtype: int64"
      ]
     },
     "execution_count": 91,
     "metadata": {},
     "output_type": "execute_result"
    }
   ],
   "source": [
    "df.isna().sum()"
   ]
  },
  {
   "cell_type": "markdown",
   "id": "1f482012",
   "metadata": {},
   "source": [
    "### Missing values: \n",
    "normalized-losses: 41, num-of-doors: 2, bore: 4, stroke: 4, horsepower: 2, peak-rpm: 2, price: 4"
   ]
  },
  {
   "cell_type": "markdown",
   "id": "34568956",
   "metadata": {},
   "source": [
    "## Finding proportion of missing values"
   ]
  },
  {
   "cell_type": "code",
   "execution_count": 93,
   "id": "cdaa5679",
   "metadata": {},
   "outputs": [
    {
     "name": "stdout",
     "output_type": "stream",
     "text": [
      "Size of the dataframe: 5304\n",
      "Shape of the dataframe: (204, 26)\n",
      "Count of all missing values in dataframe:  58\n",
      "% of missing values in dataframe:  1.09 %\n"
     ]
    }
   ],
   "source": [
    "# Finding proportion of missing values in entire data\n",
    "\n",
    "# Size and shape of the dataframe\n",
    "print(\"Size of the dataframe:\", df.size)\n",
    "print(\"Shape of the dataframe:\", df.shape)\n",
    "\n",
    "# Overall dataframe\n",
    "print(\"Count of all missing values in dataframe: \", df.isnull().sum().sum())\n",
    "\n",
    "# Overall % of missing values in the dataframe\n",
    "print(\"% of missing values in dataframe: \", round((df.isnull().sum().sum()/df.size)*100,2),\"%\")\n"
   ]
  },
  {
   "cell_type": "markdown",
   "id": "6b271c51",
   "metadata": {},
   "source": [
    "Overall missing values is < 10%"
   ]
  },
  {
   "cell_type": "markdown",
   "id": "b1ef0712",
   "metadata": {},
   "source": [
    "## <font color='Green'>1.2 Missing Value Analysis</font>"
   ]
  },
  {
   "cell_type": "markdown",
   "id": "3f8d3816",
   "metadata": {},
   "source": [
    "### <font color='Blue'>Complete Cases Approach</font>\n",
    "We ignore the cases with missing values and use the rest"
   ]
  },
  {
   "cell_type": "code",
   "execution_count": 94,
   "id": "b3a0e55d",
   "metadata": {},
   "outputs": [
    {
     "name": "stdout",
     "output_type": "stream",
     "text": [
      "Original data: (204, 26)\n",
      "After removing cases with missing values: (159, 26)\n"
     ]
    }
   ],
   "source": [
    "df_cc = df.dropna()\n",
    "print(\"Original data:\",df.shape)\n",
    "print(\"After removing cases with missing values:\",df_cc.shape)"
   ]
  },
  {
   "cell_type": "code",
   "execution_count": 95,
   "id": "3f3ea5e0",
   "metadata": {},
   "outputs": [
    {
     "data": {
      "text/plain": [
       "symboling            0\n",
       "normalized-losses    0\n",
       "make                 0\n",
       "fuel-type            0\n",
       "aspiration           0\n",
       "num-of-doors         0\n",
       "body-style           0\n",
       "drive-wheels         0\n",
       "engine-location      0\n",
       "wheel-base           0\n",
       "length               0\n",
       "width                0\n",
       "height               0\n",
       "curb-weight          0\n",
       "engine-type          0\n",
       "num-of-cylinders     0\n",
       "engine-size          0\n",
       "fuel-system          0\n",
       "bore                 0\n",
       "stroke               0\n",
       "compression-ratio    0\n",
       "horsepower           0\n",
       "peak-rpm             0\n",
       "city-mpg             0\n",
       "highway-mpg          0\n",
       "price                0\n",
       "dtype: int64"
      ]
     },
     "execution_count": 95,
     "metadata": {},
     "output_type": "execute_result"
    }
   ],
   "source": [
    "df_cc.isna().sum()"
   ]
  },
  {
   "cell_type": "markdown",
   "id": "9829f0aa",
   "metadata": {},
   "source": [
    "## <font color='Green'>1.3 Data Visualisation</font>"
   ]
  },
  {
   "cell_type": "code",
   "execution_count": 96,
   "id": "4892b282",
   "metadata": {},
   "outputs": [
    {
     "data": {
      "text/plain": [
       "<AxesSubplot:>"
      ]
     },
     "execution_count": 96,
     "metadata": {},
     "output_type": "execute_result"
    },
    {
     "data": {
      "image/png": "[encoded data removed]",
      "text/plain": [
       "<Figure size 1440x720 with 2 Axes>"
      ]
     },
     "metadata": {
      "needs_background": "light"
     },
     "output_type": "display_data"
    }
   ],
   "source": [
    "import seaborn as sn\n",
    "\n",
    "correlations=df_cc.corr()\n",
    "f,ax=plt.subplots(figsize=(20,10))\n",
    "\n",
    "sn.heatmap(correlations,annot=True)"
   ]
  },
  {
   "cell_type": "markdown",
   "id": "f25f3399",
   "metadata": {},
   "source": [
    "## <font color='Green'>1.4 Detecting and Removing Outliers</font>"
   ]
  },
  {
   "cell_type": "code",
   "execution_count": 97,
   "id": "cb2bf048",
   "metadata": {},
   "outputs": [
    {
     "data": {
      "text/html": [
       "<div>\n",
       "<style scoped>\n",
       "    .dataframe tbody tr th:only-of-type {\n",
       "        vertical-align: middle;\n",
       "    }\n",
       "\n",
       "    .dataframe tbody tr th {\n",
       "        vertical-align: top;\n",
       "    }\n",
       "\n",
       "    .dataframe thead th {\n",
       "        text-align: right;\n",
       "    }\n",
       "</style>\n",
       "<table border=\"1\" class=\"dataframe\">\n",
       "  <thead>\n",
       "    <tr style=\"text-align: right;\">\n",
       "      <th></th>\n",
       "      <th>wheel-base</th>\n",
       "      <th>length</th>\n",
       "      <th>width</th>\n",
       "      <th>height</th>\n",
       "      <th>bore</th>\n",
       "      <th>stroke</th>\n",
       "      <th>compression-ratio</th>\n",
       "      <th>horsepower</th>\n",
       "      <th>peak-rpm</th>\n",
       "      <th>city-mpg</th>\n",
       "      <th>highway-mpg</th>\n",
       "      <th>price</th>\n",
       "    </tr>\n",
       "  </thead>\n",
       "  <tbody>\n",
       "    <tr>\n",
       "      <th>3</th>\n",
       "      <td>0.298157</td>\n",
       "      <td>0.364430</td>\n",
       "      <td>0.305113</td>\n",
       "      <td>0.177143</td>\n",
       "      <td>-0.413240</td>\n",
       "      <td>0.556703</td>\n",
       "      <td>-0.041559</td>\n",
       "      <td>0.201279</td>\n",
       "      <td>0.831733</td>\n",
       "      <td>-0.414945</td>\n",
       "      <td>-0.323313</td>\n",
       "      <td>0.427398</td>\n",
       "    </tr>\n",
       "    <tr>\n",
       "      <th>4</th>\n",
       "      <td>0.220504</td>\n",
       "      <td>0.364430</td>\n",
       "      <td>0.408113</td>\n",
       "      <td>0.177143</td>\n",
       "      <td>-0.413240</td>\n",
       "      <td>0.556703</td>\n",
       "      <td>-0.557392</td>\n",
       "      <td>0.625812</td>\n",
       "      <td>0.831733</td>\n",
       "      <td>-1.402122</td>\n",
       "      <td>-1.565772</td>\n",
       "      <td>1.024734</td>\n",
       "    </tr>\n",
       "    <tr>\n",
       "      <th>6</th>\n",
       "      <td>1.462948</td>\n",
       "      <td>1.766029</td>\n",
       "      <td>2.983113</td>\n",
       "      <td>0.796169</td>\n",
       "      <td>-0.413240</td>\n",
       "      <td>0.556703</td>\n",
       "      <td>-0.428433</td>\n",
       "      <td>0.462530</td>\n",
       "      <td>0.831733</td>\n",
       "      <td>-1.237593</td>\n",
       "      <td>-1.099850</td>\n",
       "      <td>1.069108</td>\n",
       "    </tr>\n",
       "    <tr>\n",
       "      <th>8</th>\n",
       "      <td>1.462948</td>\n",
       "      <td>1.766029</td>\n",
       "      <td>2.983113</td>\n",
       "      <td>0.884602</td>\n",
       "      <td>-0.638386</td>\n",
       "      <td>0.556703</td>\n",
       "      <td>-0.480017</td>\n",
       "      <td>1.442223</td>\n",
       "      <td>0.831733</td>\n",
       "      <td>-1.566652</td>\n",
       "      <td>-1.876386</td>\n",
       "      <td>2.121274</td>\n",
       "    </tr>\n",
       "    <tr>\n",
       "      <th>10</th>\n",
       "      <td>0.569942</td>\n",
       "      <td>0.381841</td>\n",
       "      <td>-0.415887</td>\n",
       "      <td>0.177143</td>\n",
       "      <td>0.750015</td>\n",
       "      <td>-1.484399</td>\n",
       "      <td>-0.351058</td>\n",
       "      <td>0.168622</td>\n",
       "      <td>1.477884</td>\n",
       "      <td>-0.579475</td>\n",
       "      <td>-0.478620</td>\n",
       "      <td>0.850653</td>\n",
       "    </tr>\n",
       "  </tbody>\n",
       "</table>\n",
       "</div>"
      ],
      "text/plain": [
       "    wheel-base    length     width    height      bore    stroke  \\\n",
       "3     0.298157  0.364430  0.305113  0.177143 -0.413240  0.556703   \n",
       "4     0.220504  0.364430  0.408113  0.177143 -0.413240  0.556703   \n",
       "6     1.462948  1.766029  2.983113  0.796169 -0.413240  0.556703   \n",
       "8     1.462948  1.766029  2.983113  0.884602 -0.638386  0.556703   \n",
       "10    0.569942  0.381841 -0.415887  0.177143  0.750015 -1.484399   \n",
       "\n",
       "    compression-ratio  horsepower  peak-rpm  city-mpg  highway-mpg     price  \n",
       "3           -0.041559    0.201279  0.831733 -0.414945    -0.323313  0.427398  \n",
       "4           -0.557392    0.625812  0.831733 -1.402122    -1.565772  1.024734  \n",
       "6           -0.428433    0.462530  0.831733 -1.237593    -1.099850  1.069108  \n",
       "8           -0.480017    1.442223  0.831733 -1.566652    -1.876386  2.121274  \n",
       "10          -0.351058    0.168622  1.477884 -0.579475    -0.478620  0.850653  "
      ]
     },
     "execution_count": 97,
     "metadata": {},
     "output_type": "execute_result"
    }
   ],
   "source": [
    "from scipy.stats import zscore\n",
    "import matplotlib.pyplot as plt\n",
    "columns = ['wheel-base','length','width','height','bore','stroke','compression-ratio','horsepower','peak-rpm',\n",
    "           'city-mpg','highway-mpg','price']\n",
    "df_cc1 = df_cc[columns]\n",
    "df_cc1 = df_cc1.apply(zscore)\n",
    "df_cc1.head()"
   ]
  },
  {
   "cell_type": "code",
   "execution_count": 98,
   "id": "e42f77ff",
   "metadata": {},
   "outputs": [
    {
     "data": {
      "image/png": "[encoded data removed]",
      "text/plain": [
       "<Figure size 1080x1080 with 1 Axes>"
      ]
     },
     "metadata": {
      "needs_background": "light"
     },
     "output_type": "display_data"
    }
   ],
   "source": [
    "fig = plt.figure(figsize = (15,15))\n",
    "box = plt.boxplot(df_cc1, vert=True, patch_artist=True, labels=df_cc1.columns);\n",
    "fig = plt.ylabel('Z_Score', fontsize=10);\n",
    "fig = plt.grid()"
   ]
  },
  {
   "cell_type": "markdown",
   "id": "065fc21c",
   "metadata": {},
   "source": [
    "<b> Inference </b>\n",
    "\n",
    "From the box plot, we can notice that fewer variables 'wheel-base','length','width','stroke','compression-ratio' have several outliers. The outliers have to removed in the data processing step."
   ]
  },
  {
   "cell_type": "markdown",
   "id": "cdb411b6",
   "metadata": {},
   "source": [
    "<b> Cut-offs for Outliers </b>\n"
   ]
  },
  {
   "cell_type": "code",
   "execution_count": 99,
   "id": "9208dab8",
   "metadata": {},
   "outputs": [],
   "source": [
    "df_cc['z_score_tc'] = zscore( df_cc['price'] )"
   ]
  },
  {
   "cell_type": "code",
   "execution_count": 100,
   "id": "567522fe",
   "metadata": {},
   "outputs": [
    {
     "data": {
      "text/html": [
       "<div>\n",
       "<style scoped>\n",
       "    .dataframe tbody tr th:only-of-type {\n",
       "        vertical-align: middle;\n",
       "    }\n",
       "\n",
       "    .dataframe tbody tr th {\n",
       "        vertical-align: top;\n",
       "    }\n",
       "\n",
       "    .dataframe thead th {\n",
       "        text-align: right;\n",
       "    }\n",
       "</style>\n",
       "<table border=\"1\" class=\"dataframe\">\n",
       "  <thead>\n",
       "    <tr style=\"text-align: right;\">\n",
       "      <th></th>\n",
       "      <th>symboling</th>\n",
       "      <th>normalized-losses</th>\n",
       "      <th>make</th>\n",
       "      <th>fuel-type</th>\n",
       "      <th>aspiration</th>\n",
       "      <th>num-of-doors</th>\n",
       "      <th>body-style</th>\n",
       "      <th>drive-wheels</th>\n",
       "      <th>engine-location</th>\n",
       "      <th>wheel-base</th>\n",
       "      <th>length</th>\n",
       "      <th>width</th>\n",
       "      <th>height</th>\n",
       "      <th>curb-weight</th>\n",
       "      <th>engine-type</th>\n",
       "      <th>num-of-cylinders</th>\n",
       "      <th>engine-size</th>\n",
       "      <th>fuel-system</th>\n",
       "      <th>bore</th>\n",
       "      <th>stroke</th>\n",
       "      <th>compression-ratio</th>\n",
       "      <th>horsepower</th>\n",
       "      <th>peak-rpm</th>\n",
       "      <th>city-mpg</th>\n",
       "      <th>highway-mpg</th>\n",
       "      <th>price</th>\n",
       "      <th>z_score_tc</th>\n",
       "    </tr>\n",
       "  </thead>\n",
       "  <tbody>\n",
       "    <tr>\n",
       "      <th>46</th>\n",
       "      <td>0</td>\n",
       "      <td>145.0</td>\n",
       "      <td>jaguar</td>\n",
       "      <td>gas</td>\n",
       "      <td>std</td>\n",
       "      <td>four</td>\n",
       "      <td>sedan</td>\n",
       "      <td>rwd</td>\n",
       "      <td>front</td>\n",
       "      <td>113.0</td>\n",
       "      <td>199.6</td>\n",
       "      <td>69.6</td>\n",
       "      <td>52.8</td>\n",
       "      <td>4066</td>\n",
       "      <td>dohc</td>\n",
       "      <td>six</td>\n",
       "      <td>258</td>\n",
       "      <td>mpfi</td>\n",
       "      <td>3.63</td>\n",
       "      <td>4.17</td>\n",
       "      <td>8.1</td>\n",
       "      <td>176.0</td>\n",
       "      <td>4750.0</td>\n",
       "      <td>15</td>\n",
       "      <td>19</td>\n",
       "      <td>32250.0</td>\n",
       "      <td>3.550615</td>\n",
       "    </tr>\n",
       "    <tr>\n",
       "      <th>69</th>\n",
       "      <td>-1</td>\n",
       "      <td>93.0</td>\n",
       "      <td>mercedes-benz</td>\n",
       "      <td>diesel</td>\n",
       "      <td>turbo</td>\n",
       "      <td>four</td>\n",
       "      <td>sedan</td>\n",
       "      <td>rwd</td>\n",
       "      <td>front</td>\n",
       "      <td>115.6</td>\n",
       "      <td>202.6</td>\n",
       "      <td>71.7</td>\n",
       "      <td>56.3</td>\n",
       "      <td>3770</td>\n",
       "      <td>ohc</td>\n",
       "      <td>five</td>\n",
       "      <td>183</td>\n",
       "      <td>idi</td>\n",
       "      <td>3.58</td>\n",
       "      <td>3.64</td>\n",
       "      <td>21.5</td>\n",
       "      <td>123.0</td>\n",
       "      <td>4350.0</td>\n",
       "      <td>22</td>\n",
       "      <td>25</td>\n",
       "      <td>31600.0</td>\n",
       "      <td>3.439681</td>\n",
       "    </tr>\n",
       "    <tr>\n",
       "      <th>71</th>\n",
       "      <td>3</td>\n",
       "      <td>142.0</td>\n",
       "      <td>mercedes-benz</td>\n",
       "      <td>gas</td>\n",
       "      <td>std</td>\n",
       "      <td>two</td>\n",
       "      <td>convertible</td>\n",
       "      <td>rwd</td>\n",
       "      <td>front</td>\n",
       "      <td>96.6</td>\n",
       "      <td>180.3</td>\n",
       "      <td>70.5</td>\n",
       "      <td>50.8</td>\n",
       "      <td>3685</td>\n",
       "      <td>ohcv</td>\n",
       "      <td>eight</td>\n",
       "      <td>234</td>\n",
       "      <td>mpfi</td>\n",
       "      <td>3.46</td>\n",
       "      <td>3.10</td>\n",
       "      <td>8.3</td>\n",
       "      <td>155.0</td>\n",
       "      <td>4750.0</td>\n",
       "      <td>16</td>\n",
       "      <td>18</td>\n",
       "      <td>35056.0</td>\n",
       "      <td>4.029508</td>\n",
       "    </tr>\n",
       "  </tbody>\n",
       "</table>\n",
       "</div>"
      ],
      "text/plain": [
       "    symboling  normalized-losses           make fuel-type aspiration  \\\n",
       "46          0              145.0         jaguar       gas        std   \n",
       "69         -1               93.0  mercedes-benz    diesel      turbo   \n",
       "71          3              142.0  mercedes-benz       gas        std   \n",
       "\n",
       "   num-of-doors   body-style drive-wheels engine-location  wheel-base  length  \\\n",
       "46         four        sedan          rwd           front       113.0   199.6   \n",
       "69         four        sedan          rwd           front       115.6   202.6   \n",
       "71          two  convertible          rwd           front        96.6   180.3   \n",
       "\n",
       "    width  height  curb-weight engine-type num-of-cylinders  engine-size  \\\n",
       "46   69.6    52.8         4066        dohc              six          258   \n",
       "69   71.7    56.3         3770         ohc             five          183   \n",
       "71   70.5    50.8         3685        ohcv            eight          234   \n",
       "\n",
       "   fuel-system  bore  stroke  compression-ratio  horsepower  peak-rpm  \\\n",
       "46        mpfi  3.63    4.17                8.1       176.0    4750.0   \n",
       "69         idi  3.58    3.64               21.5       123.0    4350.0   \n",
       "71        mpfi  3.46    3.10                8.3       155.0    4750.0   \n",
       "\n",
       "    city-mpg  highway-mpg    price  z_score_tc  \n",
       "46        15           19  32250.0    3.550615  \n",
       "69        22           25  31600.0    3.439681  \n",
       "71        16           18  35056.0    4.029508  "
      ]
     },
     "execution_count": 100,
     "metadata": {},
     "output_type": "execute_result"
    }
   ],
   "source": [
    "df_cc[ ( df_cc.z_score_tc > 3.0) | ( df_cc.z_score_tc < -3.0) ]"
   ]
  },
  {
   "cell_type": "code",
   "execution_count": 101,
   "id": "1c7b4616",
   "metadata": {},
   "outputs": [
    {
     "data": {
      "text/plain": [
       "(156, 26)"
      ]
     },
     "execution_count": 101,
     "metadata": {},
     "output_type": "execute_result"
    }
   ],
   "source": [
    "df_cc = df_cc.drop([46,69,71])\n",
    "df_cc = df_cc.drop(['z_score_tc'],axis=1)\n",
    "df_cc.shape "
   ]
  },
  {
   "cell_type": "markdown",
   "id": "c3b137ac",
   "metadata": {},
   "source": [
    "## <font color='Green'>1.5 Scaling the Data</font>\n"
   ]
  },
  {
   "cell_type": "code",
   "execution_count": 103,
   "id": "4f9f5142",
   "metadata": {},
   "outputs": [
    {
     "data": {
      "text/html": [
       "<div>\n",
       "<style scoped>\n",
       "    .dataframe tbody tr th:only-of-type {\n",
       "        vertical-align: middle;\n",
       "    }\n",
       "\n",
       "    .dataframe tbody tr th {\n",
       "        vertical-align: top;\n",
       "    }\n",
       "\n",
       "    .dataframe thead th {\n",
       "        text-align: right;\n",
       "    }\n",
       "</style>\n",
       "<table border=\"1\" class=\"dataframe\">\n",
       "  <thead>\n",
       "    <tr style=\"text-align: right;\">\n",
       "      <th></th>\n",
       "      <th>wheel-base</th>\n",
       "      <th>length</th>\n",
       "      <th>width</th>\n",
       "      <th>height</th>\n",
       "      <th>bore</th>\n",
       "      <th>stroke</th>\n",
       "      <th>compression-ratio</th>\n",
       "      <th>horsepower</th>\n",
       "      <th>peak-rpm</th>\n",
       "      <th>city-mpg</th>\n",
       "      <th>highway-mpg</th>\n",
       "      <th>price</th>\n",
       "    </tr>\n",
       "  </thead>\n",
       "  <tbody>\n",
       "    <tr>\n",
       "      <th>count</th>\n",
       "      <td>1.590000e+02</td>\n",
       "      <td>1.590000e+02</td>\n",
       "      <td>1.590000e+02</td>\n",
       "      <td>1.590000e+02</td>\n",
       "      <td>1.590000e+02</td>\n",
       "      <td>1.590000e+02</td>\n",
       "      <td>1.590000e+02</td>\n",
       "      <td>1.590000e+02</td>\n",
       "      <td>1.590000e+02</td>\n",
       "      <td>1.590000e+02</td>\n",
       "      <td>1.590000e+02</td>\n",
       "      <td>1.590000e+02</td>\n",
       "    </tr>\n",
       "    <tr>\n",
       "      <th>mean</th>\n",
       "      <td>3.910219e-17</td>\n",
       "      <td>1.592018e-16</td>\n",
       "      <td>-9.216946e-17</td>\n",
       "      <td>7.680788e-17</td>\n",
       "      <td>1.578053e-16</td>\n",
       "      <td>-1.431420e-17</td>\n",
       "      <td>-1.024687e-16</td>\n",
       "      <td>-7.820439e-17</td>\n",
       "      <td>7.122185e-17</td>\n",
       "      <td>-6.563583e-17</td>\n",
       "      <td>-1.256856e-17</td>\n",
       "      <td>4.887774e-17</td>\n",
       "    </tr>\n",
       "    <tr>\n",
       "      <th>std</th>\n",
       "      <td>1.003160e+00</td>\n",
       "      <td>1.003160e+00</td>\n",
       "      <td>1.003160e+00</td>\n",
       "      <td>1.003160e+00</td>\n",
       "      <td>1.003160e+00</td>\n",
       "      <td>1.003160e+00</td>\n",
       "      <td>1.003160e+00</td>\n",
       "      <td>1.003160e+00</td>\n",
       "      <td>1.003160e+00</td>\n",
       "      <td>1.003160e+00</td>\n",
       "      <td>1.003160e+00</td>\n",
       "      <td>1.003160e+00</td>\n",
       "    </tr>\n",
       "    <tr>\n",
       "      <th>min</th>\n",
       "      <td>-2.264382e+00</td>\n",
       "      <td>-2.726052e+00</td>\n",
       "      <td>-2.733387e+00</td>\n",
       "      <td>-1.989450e+00</td>\n",
       "      <td>-2.852323e+00</td>\n",
       "      <td>-3.967739e+00</td>\n",
       "      <td>-8.153080e-01</td>\n",
       "      <td>-1.562169e+00</td>\n",
       "      <td>-2.075946e+00</td>\n",
       "      <td>-1.895711e+00</td>\n",
       "      <td>-2.187001e+00</td>\n",
       "      <td>-1.079938e+00</td>\n",
       "    </tr>\n",
       "    <tr>\n",
       "      <th>25%</th>\n",
       "      <td>-7.307413e-01</td>\n",
       "      <td>-5.888313e-01</td>\n",
       "      <td>-8.278868e-01</td>\n",
       "      <td>-7.292889e-01</td>\n",
       "      <td>-9.385807e-01</td>\n",
       "      <td>-4.468386e-01</td>\n",
       "      <td>-3.768500e-01</td>\n",
       "      <td>-8.763838e-01</td>\n",
       "      <td>-6.759523e-01</td>\n",
       "      <td>-5.794748e-01</td>\n",
       "      <td>-6.339275e-01</td>\n",
       "      <td>-6.952536e-01</td>\n",
       "    </tr>\n",
       "    <tr>\n",
       "      <th>50%</th>\n",
       "      <td>-2.648250e-01</td>\n",
       "      <td>-1.204546e-03</td>\n",
       "      <td>-1.068868e-01</td>\n",
       "      <td>8.871045e-02</td>\n",
       "      <td>-1.130451e-01</td>\n",
       "      <td>1.144643e-01</td>\n",
       "      <td>-2.994751e-01</td>\n",
       "      <td>-2.559115e-01</td>\n",
       "      <td>1.855821e-01</td>\n",
       "      <td>-8.588645e-02</td>\n",
       "      <td>-1.269809e-02</td>\n",
       "      <td>-3.776412e-01</td>\n",
       "    </tr>\n",
       "    <tr>\n",
       "      <th>75%</th>\n",
       "      <td>4.922888e-01</td>\n",
       "      <td>4.688969e-01</td>\n",
       "      <td>4.596132e-01</td>\n",
       "      <td>7.077369e-01</td>\n",
       "      <td>9.751611e-01</td>\n",
       "      <td>5.907213e-01</td>\n",
       "      <td>-1.963085e-01</td>\n",
       "      <td>5.931560e-01</td>\n",
       "      <td>8.317329e-01</td>\n",
       "      <td>7.367609e-01</td>\n",
       "      <td>7.638387e-01</td>\n",
       "      <td>5.587265e-01</td>\n",
       "    </tr>\n",
       "    <tr>\n",
       "      <th>max</th>\n",
       "      <td>3.365439e+00</td>\n",
       "      <td>2.627881e+00</td>\n",
       "      <td>3.137613e+00</td>\n",
       "      <td>2.609033e+00</td>\n",
       "      <td>2.401086e+00</td>\n",
       "      <td>3.176117e+00</td>\n",
       "      <td>3.311356e+00</td>\n",
       "      <td>3.401610e+00</td>\n",
       "      <td>3.200952e+00</td>\n",
       "      <td>3.698291e+00</td>\n",
       "      <td>3.404064e+00</td>\n",
       "      <td>4.029508e+00</td>\n",
       "    </tr>\n",
       "  </tbody>\n",
       "</table>\n",
       "</div>"
      ],
      "text/plain": [
       "         wheel-base        length         width        height          bore  \\\n",
       "count  1.590000e+02  1.590000e+02  1.590000e+02  1.590000e+02  1.590000e+02   \n",
       "mean   3.910219e-17  1.592018e-16 -9.216946e-17  7.680788e-17  1.578053e-16   \n",
       "std    1.003160e+00  1.003160e+00  1.003160e+00  1.003160e+00  1.003160e+00   \n",
       "min   -2.264382e+00 -2.726052e+00 -2.733387e+00 -1.989450e+00 -2.852323e+00   \n",
       "25%   -7.307413e-01 -5.888313e-01 -8.278868e-01 -7.292889e-01 -9.385807e-01   \n",
       "50%   -2.648250e-01 -1.204546e-03 -1.068868e-01  8.871045e-02 -1.130451e-01   \n",
       "75%    4.922888e-01  4.688969e-01  4.596132e-01  7.077369e-01  9.751611e-01   \n",
       "max    3.365439e+00  2.627881e+00  3.137613e+00  2.609033e+00  2.401086e+00   \n",
       "\n",
       "             stroke  compression-ratio    horsepower      peak-rpm  \\\n",
       "count  1.590000e+02       1.590000e+02  1.590000e+02  1.590000e+02   \n",
       "mean  -1.431420e-17      -1.024687e-16 -7.820439e-17  7.122185e-17   \n",
       "std    1.003160e+00       1.003160e+00  1.003160e+00  1.003160e+00   \n",
       "min   -3.967739e+00      -8.153080e-01 -1.562169e+00 -2.075946e+00   \n",
       "25%   -4.468386e-01      -3.768500e-01 -8.763838e-01 -6.759523e-01   \n",
       "50%    1.144643e-01      -2.994751e-01 -2.559115e-01  1.855821e-01   \n",
       "75%    5.907213e-01      -1.963085e-01  5.931560e-01  8.317329e-01   \n",
       "max    3.176117e+00       3.311356e+00  3.401610e+00  3.200952e+00   \n",
       "\n",
       "           city-mpg   highway-mpg         price  \n",
       "count  1.590000e+02  1.590000e+02  1.590000e+02  \n",
       "mean  -6.563583e-17 -1.256856e-17  4.887774e-17  \n",
       "std    1.003160e+00  1.003160e+00  1.003160e+00  \n",
       "min   -1.895711e+00 -2.187001e+00 -1.079938e+00  \n",
       "25%   -5.794748e-01 -6.339275e-01 -6.952536e-01  \n",
       "50%   -8.588645e-02 -1.269809e-02 -3.776412e-01  \n",
       "75%    7.367609e-01  7.638387e-01  5.587265e-01  \n",
       "max    3.698291e+00  3.404064e+00  4.029508e+00  "
      ]
     },
     "execution_count": 103,
     "metadata": {},
     "output_type": "execute_result"
    }
   ],
   "source": [
    "scaler = StandardScaler()\n",
    "df_scaled = pd.DataFrame(scaler.fit_transform(df_cc1),columns = df_cc1.columns)\n",
    "df_scaled.describe()"
   ]
  },
  {
   "cell_type": "markdown",
   "id": "dcafdf74",
   "metadata": {},
   "source": [
    "## <font color='Green'>1.6 Dimensionality Reduction</font>"
   ]
  },
  {
   "cell_type": "markdown",
   "id": "4e967bca-debc-4ad6-9371-d1cba788194c",
   "metadata": {},
   "source": [
    "#### K-means Clustering, Hierarchial clustering use the Euclidean distance, which gets affected as the number of dimensions increase. So, before using these methods, we have to reduce the number of dimensions. Hence, we are using PCA which is by far the most popular dimensionality reduction algorithm."
   ]
  },
  {
   "cell_type": "code",
   "execution_count": 104,
   "id": "c3b4ffa7",
   "metadata": {},
   "outputs": [
    {
     "data": {
      "text/plain": [
       "PCA()"
      ]
     },
     "execution_count": 104,
     "metadata": {},
     "output_type": "execute_result"
    }
   ],
   "source": [
    "from sklearn.decomposition import PCA\n",
    "pca= PCA()\n",
    "pca.fit(df_scaled)"
   ]
  },
  {
   "cell_type": "code",
   "execution_count": 105,
   "id": "e0989d81",
   "metadata": {},
   "outputs": [
    {
     "data": {
      "text/plain": [
       "array([[ 0.34785218,  0.37441904,  0.3631538 ,  0.16323429,  0.2942379 ,\n",
       "         0.0505824 ,  0.03914443,  0.33221064, -0.08375651, -0.34728408,\n",
       "        -0.35309077,  0.35631157],\n",
       "       [ 0.22356318,  0.10553379,  0.10565847,  0.31613992,  0.00750663,\n",
       "         0.13924081,  0.58835607, -0.27512795, -0.47299751,  0.29977549,\n",
       "         0.26817683,  0.03099295],\n",
       "       [ 0.02369606,  0.04148332, -0.14264301,  0.40831326,  0.26833576,\n",
       "        -0.76922248, -0.22323219, -0.17159024, -0.19673903, -0.03903051,\n",
       "        -0.04043104, -0.16063455],\n",
       "       [ 0.20376193,  0.13177193, -0.04143196,  0.64347971, -0.3910838 ,\n",
       "         0.13718882, -0.0410838 , -0.12921433,  0.57377709, -0.01820153,\n",
       "        -0.02619987, -0.07032128],\n",
       "       [-0.01403841, -0.02069634,  0.2183108 , -0.24445934, -0.1957925 ,\n",
       "        -0.57481562,  0.48536657,  0.06493227,  0.39947404,  0.11938227,\n",
       "         0.06124102,  0.32531201],\n",
       "       [-0.08430449, -0.07809515,  0.06666212,  0.04767067, -0.76330773,\n",
       "        -0.12521037, -0.1558262 ,  0.02892893, -0.48301069, -0.17900881,\n",
       "        -0.20136948,  0.22527631],\n",
       "       [ 0.48448727,  0.20441641,  0.40781101, -0.31418562, -0.10499005,\n",
       "        -0.0662746 , -0.47339837, -0.31666384,  0.01615402,  0.22572798,\n",
       "         0.25696713, -0.03768541],\n",
       "       [-0.10243972, -0.17042377, -0.047646  ,  0.27611517,  0.09987844,\n",
       "         0.03539875, -0.32605968,  0.37295424, -0.01766694,  0.38099907,\n",
       "         0.40012907,  0.56545369],\n",
       "       [-0.11659794,  0.59158857, -0.05414766, -0.03646832, -0.19864626,\n",
       "        -0.09912216,  0.0321627 ,  0.56060891, -0.07522949,  0.11634539,\n",
       "         0.27557382, -0.4152433 ],\n",
       "       [-0.56280797, -0.08346347,  0.7571949 ,  0.22112851,  0.07066839,\n",
       "         0.04291879, -0.05315044, -0.06183757,  0.02284888,  0.01560685,\n",
       "         0.01774191, -0.19868012],\n",
       "       [-0.44637064,  0.61109618, -0.19149535, -0.07106877,  0.04449622,\n",
       "         0.06151839, -0.0637433 , -0.45304149,  0.04101791, -0.10548619,\n",
       "         0.07799384,  0.38939235],\n",
       "       [-0.06940585,  0.14781426, -0.03552489, -0.01899178,  0.00328844,\n",
       "         0.01848387, -0.05077701,  0.00493733, -0.00398587,  0.72135767,\n",
       "        -0.66956161, -0.00838971]])"
      ]
     },
     "execution_count": 105,
     "metadata": {},
     "output_type": "execute_result"
    }
   ],
   "source": [
    "pca.components_"
   ]
  },
  {
   "cell_type": "code",
   "execution_count": 106,
   "id": "53b58c15",
   "metadata": {},
   "outputs": [
    {
     "data": {
      "text/plain": [
       "array([6.15091261, 2.05120551, 1.24973146, 0.83737803, 0.56353126,\n",
       "       0.38198295, 0.26236274, 0.20155574, 0.1468678 , 0.12050982,\n",
       "       0.08666292, 0.02324853])"
      ]
     },
     "execution_count": 106,
     "metadata": {},
     "output_type": "execute_result"
    }
   ],
   "source": [
    "pca.explained_variance_"
   ]
  },
  {
   "cell_type": "markdown",
   "id": "9927f033",
   "metadata": {},
   "source": [
    "### Analyzing Results - Explained Variance"
   ]
  },
  {
   "cell_type": "code",
   "execution_count": 107,
   "id": "131c0562",
   "metadata": {},
   "outputs": [
    {
     "data": {
      "text/plain": [
       "array([0.5093523 , 0.16985874, 0.10348929, 0.06934262, 0.04666559,\n",
       "       0.03163171, 0.02172605, 0.01669067, 0.01216201, 0.00997932,\n",
       "       0.00717649, 0.00192519])"
      ]
     },
     "execution_count": 107,
     "metadata": {},
     "output_type": "execute_result"
    }
   ],
   "source": [
    "explained_variance = pca.explained_variance_ratio_\n",
    "explained_variance"
   ]
  },
  {
   "cell_type": "markdown",
   "id": "9ca8b409",
   "metadata": {},
   "source": [
    "### Analyzing Results - Scree Plot"
   ]
  },
  {
   "cell_type": "code",
   "execution_count": 108,
   "id": "ebe95c45",
   "metadata": {},
   "outputs": [
    {
     "data": {
      "image/png": "[encoded data removed]",
      "text/plain": [
       "<Figure size 432x288 with 1 Axes>"
      ]
     },
     "metadata": {
      "needs_background": "light"
     },
     "output_type": "display_data"
    }
   ],
   "source": [
    "plt.plot(pca.explained_variance_ratio_.cumsum())\n",
    "plt.xlabel('number of components')\n",
    "plt.ylabel('cumulative explained variance')\n",
    "plt.show()"
   ]
  },
  {
   "cell_type": "markdown",
   "id": "ce2ac7e6",
   "metadata": {},
   "source": [
    "<b> We can see that at n_components = 7, we can capture 95% of variance in the data. </b>"
   ]
  },
  {
   "cell_type": "markdown",
   "id": "f6246d2d",
   "metadata": {},
   "source": [
    "### Executing PCA with 7 components"
   ]
  },
  {
   "cell_type": "code",
   "execution_count": 109,
   "id": "733e731e",
   "metadata": {},
   "outputs": [],
   "source": [
    "pca = PCA(n_components=7)\n",
    "labels = ['PC1','PC2','PC3','PC4','PC5','PC6','PC7']\n",
    "df_scaled_PCA = pd.DataFrame(pca.fit_transform(df_scaled),columns = labels)"
   ]
  },
  {
   "cell_type": "markdown",
   "id": "ca1e7309",
   "metadata": {},
   "source": [
    "### Understanding the PCA data"
   ]
  },
  {
   "cell_type": "code",
   "execution_count": 110,
   "id": "0116fb22",
   "metadata": {},
   "outputs": [
    {
     "data": {
      "text/html": [
       "<div>\n",
       "<style scoped>\n",
       "    .dataframe tbody tr th:only-of-type {\n",
       "        vertical-align: middle;\n",
       "    }\n",
       "\n",
       "    .dataframe tbody tr th {\n",
       "        vertical-align: top;\n",
       "    }\n",
       "\n",
       "    .dataframe thead th {\n",
       "        text-align: right;\n",
       "    }\n",
       "</style>\n",
       "<table border=\"1\" class=\"dataframe\">\n",
       "  <thead>\n",
       "    <tr style=\"text-align: right;\">\n",
       "      <th></th>\n",
       "      <th>PC1</th>\n",
       "      <th>PC2</th>\n",
       "      <th>PC3</th>\n",
       "      <th>PC4</th>\n",
       "      <th>PC5</th>\n",
       "      <th>PC6</th>\n",
       "      <th>PC7</th>\n",
       "    </tr>\n",
       "  </thead>\n",
       "  <tbody>\n",
       "    <tr>\n",
       "      <th>count</th>\n",
       "      <td>1.590000e+02</td>\n",
       "      <td>1.590000e+02</td>\n",
       "      <td>1.590000e+02</td>\n",
       "      <td>1.590000e+02</td>\n",
       "      <td>1.590000e+02</td>\n",
       "      <td>1.590000e+02</td>\n",
       "      <td>1.590000e+02</td>\n",
       "    </tr>\n",
       "    <tr>\n",
       "      <th>mean</th>\n",
       "      <td>-6.703233e-17</td>\n",
       "      <td>3.281791e-17</td>\n",
       "      <td>2.548625e-17</td>\n",
       "      <td>-3.980045e-17</td>\n",
       "      <td>1.605983e-17</td>\n",
       "      <td>-3.491267e-18</td>\n",
       "      <td>-2.374062e-17</td>\n",
       "    </tr>\n",
       "    <tr>\n",
       "      <th>std</th>\n",
       "      <td>2.480103e+00</td>\n",
       "      <td>1.432203e+00</td>\n",
       "      <td>1.117914e+00</td>\n",
       "      <td>9.150836e-01</td>\n",
       "      <td>7.506872e-01</td>\n",
       "      <td>6.180477e-01</td>\n",
       "      <td>5.122136e-01</td>\n",
       "    </tr>\n",
       "    <tr>\n",
       "      <th>min</th>\n",
       "      <td>-6.419292e+00</td>\n",
       "      <td>-2.946859e+00</td>\n",
       "      <td>-3.027363e+00</td>\n",
       "      <td>-2.133965e+00</td>\n",
       "      <td>-1.774734e+00</td>\n",
       "      <td>-1.409866e+00</td>\n",
       "      <td>-1.234456e+00</td>\n",
       "    </tr>\n",
       "    <tr>\n",
       "      <th>25%</th>\n",
       "      <td>-2.023323e+00</td>\n",
       "      <td>-8.097650e-01</td>\n",
       "      <td>-7.632839e-01</td>\n",
       "      <td>-6.371174e-01</td>\n",
       "      <td>-3.998593e-01</td>\n",
       "      <td>-3.064365e-01</td>\n",
       "      <td>-3.904681e-01</td>\n",
       "    </tr>\n",
       "    <tr>\n",
       "      <th>50%</th>\n",
       "      <td>-2.524995e-01</td>\n",
       "      <td>-2.202330e-01</td>\n",
       "      <td>-1.108700e-01</td>\n",
       "      <td>2.133919e-02</td>\n",
       "      <td>-1.054212e-01</td>\n",
       "      <td>-2.551090e-02</td>\n",
       "      <td>4.156915e-03</td>\n",
       "    </tr>\n",
       "    <tr>\n",
       "      <th>75%</th>\n",
       "      <td>1.801396e+00</td>\n",
       "      <td>2.519642e-01</td>\n",
       "      <td>6.867493e-01</td>\n",
       "      <td>5.576630e-01</td>\n",
       "      <td>5.209028e-01</td>\n",
       "      <td>3.333498e-01</td>\n",
       "      <td>3.394876e-01</td>\n",
       "    </tr>\n",
       "    <tr>\n",
       "      <th>max</th>\n",
       "      <td>6.628805e+00</td>\n",
       "      <td>4.018251e+00</td>\n",
       "      <td>3.435482e+00</td>\n",
       "      <td>2.902558e+00</td>\n",
       "      <td>2.765473e+00</td>\n",
       "      <td>2.975714e+00</td>\n",
       "      <td>1.510192e+00</td>\n",
       "    </tr>\n",
       "  </tbody>\n",
       "</table>\n",
       "</div>"
      ],
      "text/plain": [
       "                PC1           PC2           PC3           PC4           PC5  \\\n",
       "count  1.590000e+02  1.590000e+02  1.590000e+02  1.590000e+02  1.590000e+02   \n",
       "mean  -6.703233e-17  3.281791e-17  2.548625e-17 -3.980045e-17  1.605983e-17   \n",
       "std    2.480103e+00  1.432203e+00  1.117914e+00  9.150836e-01  7.506872e-01   \n",
       "min   -6.419292e+00 -2.946859e+00 -3.027363e+00 -2.133965e+00 -1.774734e+00   \n",
       "25%   -2.023323e+00 -8.097650e-01 -7.632839e-01 -6.371174e-01 -3.998593e-01   \n",
       "50%   -2.524995e-01 -2.202330e-01 -1.108700e-01  2.133919e-02 -1.054212e-01   \n",
       "75%    1.801396e+00  2.519642e-01  6.867493e-01  5.576630e-01  5.209028e-01   \n",
       "max    6.628805e+00  4.018251e+00  3.435482e+00  2.902558e+00  2.765473e+00   \n",
       "\n",
       "                PC6           PC7  \n",
       "count  1.590000e+02  1.590000e+02  \n",
       "mean  -3.491267e-18 -2.374062e-17  \n",
       "std    6.180477e-01  5.122136e-01  \n",
       "min   -1.409866e+00 -1.234456e+00  \n",
       "25%   -3.064365e-01 -3.904681e-01  \n",
       "50%   -2.551090e-02  4.156915e-03  \n",
       "75%    3.333498e-01  3.394876e-01  \n",
       "max    2.975714e+00  1.510192e+00  "
      ]
     },
     "execution_count": 110,
     "metadata": {},
     "output_type": "execute_result"
    }
   ],
   "source": [
    "df_scaled_PCA.describe()"
   ]
  },
  {
   "cell_type": "markdown",
   "id": "736cf169",
   "metadata": {},
   "source": [
    "### Finding which features contribute to the PCA component"
   ]
  },
  {
   "cell_type": "code",
   "execution_count": 128,
   "id": "7bb26130",
   "metadata": {},
   "outputs": [
    {
     "data": {
      "text/plain": [
       "<matplotlib.colorbar.Colorbar at 0x7faee1471910>"
      ]
     },
     "execution_count": 128,
     "metadata": {},
     "output_type": "execute_result"
    },
    {
     "data": {
      "image/png": "[encoded data removed]",
      "text/plain": [
       "<Figure size 1728x1152 with 2 Axes>"
      ]
     },
     "metadata": {
      "needs_background": "light"
     },
     "output_type": "display_data"
    }
   ],
   "source": [
    "fig, ax = plt.subplots(figsize=(24, 16))\n",
    "plt.imshow(pca.components_.T,\n",
    "           cmap=\"Spectral\",\n",
    "           vmin=-1,\n",
    "           vmax=1,\n",
    "          )\n",
    "plt.yticks(range(len(df_scaled.columns)), df_scaled.columns)\n",
    "plt.xticks(range(len(df_scaled_PCA.columns)), df_scaled_PCA.columns)\n",
    "plt.xlabel(\"Principal Component\")\n",
    "plt.ylabel(\"Contribution\")\n",
    "plt.title(\"Contribution of Features to Components\")\n",
    "plt.colorbar()"
   ]
  },
  {
   "cell_type": "markdown",
   "id": "a21153f7",
   "metadata": {},
   "source": [
    "## <font color='Green'>Model Building</font>"
   ]
  },
  {
   "cell_type": "markdown",
   "id": "6d80abd0",
   "metadata": {},
   "source": [
    "## <font color='Green'>2.1 Building K-Means Cluster Model</font>"
   ]
  },
  {
   "cell_type": "code",
   "execution_count": 118,
   "id": "bd6c204b",
   "metadata": {},
   "outputs": [],
   "source": [
    "import collections \n",
    "from sklearn.cluster import KMeans\n",
    "def CountFrequency(arr): \n",
    "    return collections.Counter(arr)"
   ]
  },
  {
   "cell_type": "code",
   "execution_count": 119,
   "id": "4f2b78eb",
   "metadata": {},
   "outputs": [
    {
     "name": "stdout",
     "output_type": "stream",
     "text": [
      "Counter({0: 159})\n",
      "Counter({1: 86, 0: 73})\n",
      "Counter({1: 62, 2: 58, 0: 39})\n",
      "Counter({2: 57, 1: 53, 3: 40, 0: 9})\n",
      "Counter({4: 52, 2: 51, 0: 40, 3: 9, 1: 7})\n",
      "Counter({3: 56, 2: 38, 4: 35, 1: 14, 5: 9, 0: 7})\n",
      "Counter({0: 50, 2: 43, 4: 27, 1: 15, 6: 9, 5: 8, 3: 7})\n",
      "Counter({4: 41, 5: 34, 7: 21, 3: 19, 0: 16, 1: 13, 6: 8, 2: 7})\n",
      "Counter({6: 27, 7: 26, 4: 24, 1: 22, 2: 20, 8: 13, 3: 12, 5: 8, 0: 7})\n",
      "Counter({2: 31, 9: 26, 0: 23, 7: 20, 1: 19, 6: 13, 3: 8, 8: 7, 5: 7, 4: 5})\n",
      "cluster_errors: [1816.542520172245, 1139.6459091783045, 959.7125550517167, 815.1460899726046, 709.9943260722448, 615.7755570505301, 550.4112198297769, 502.4802804332869, 426.64900832966225, 401.5449734180206]\n"
     ]
    },
    {
     "data": {
      "image/png": "[encoded data removed]",
      "text/plain": [
       "<Figure size 432x288 with 1 Axes>"
      ]
     },
     "metadata": {
      "needs_background": "light"
     },
     "output_type": "display_data"
    }
   ],
   "source": [
    "cluster_range = range( 1, 11 )\n",
    "cluster_errors = []  # Captures WSS\n",
    "\n",
    "for num_clusters in cluster_range:\n",
    "    clusters = KMeans( num_clusters )\n",
    "    clusters.fit( df_scaled_PCA )\n",
    "    cluster_errors.append( clusters.inertia_ )\n",
    "    print(CountFrequency(clusters.labels_))\n",
    "   \n",
    "print(\"cluster_errors:\", cluster_errors)\n",
    "plt.figure(figsize=(6,4))\n",
    "plt.plot( cluster_range, cluster_errors, marker = \"o\" );\n",
    "plt.xlabel('Number of clusters');\n",
    "plt.ylabel('WCSS');\n",
    "plt.title( \"Scree Plot\");"
   ]
  },
  {
   "cell_type": "markdown",
   "id": "c5c05297",
   "metadata": {},
   "source": [
    "Size wise = cluster solutions containing 4 and 5 clusters look good "
   ]
  },
  {
   "cell_type": "markdown",
   "id": "6abe4a74",
   "metadata": {},
   "source": [
    "Let's see the performance Measures and select the best cluster solution"
   ]
  },
  {
   "cell_type": "code",
   "execution_count": 129,
   "id": "18ec395a",
   "metadata": {},
   "outputs": [],
   "source": [
    "model_3clusters = KMeans(n_clusters=3).fit(df_scaled_PCA).labels_\n",
    "model_4clusters = KMeans(n_clusters=4).fit(df_scaled_PCA).labels_"
   ]
  },
  {
   "cell_type": "markdown",
   "id": "3f8553c7",
   "metadata": {},
   "source": [
    "###  <font color='Green'>2.2 Measuring the Performance</font>"
   ]
  },
  {
   "cell_type": "markdown",
   "id": "e692361d",
   "metadata": {},
   "source": [
    "###  Performance Measure: Silhouette Score"
   ]
  },
  {
   "cell_type": "code",
   "execution_count": 132,
   "id": "a1432c69",
   "metadata": {},
   "outputs": [
    {
     "name": "stdout",
     "output_type": "stream",
     "text": [
      "Silhouette Coefficient for 3 clusters: 0.236\n",
      "Silhouette Coefficient for 4 clusters: 0.267\n"
     ]
    }
   ],
   "source": [
    "from sklearn import metrics\n",
    "print(\"Silhouette Coefficient for 3 clusters: %0.3f\"% metrics.silhouette_score(df_scaled_PCA, model_3clusters))\n",
    "print(\"Silhouette Coefficient for 4 clusters: %0.3f\"% metrics.silhouette_score(df_scaled_PCA, model_4clusters))\n",
    "\n",
    "## Silhouette score between -1 and 1"
   ]
  },
  {
   "cell_type": "markdown",
   "id": "6b7e5e44",
   "metadata": {},
   "source": [
    "###  Performance Measure: Calinski-Harabasz index"
   ]
  },
  {
   "cell_type": "code",
   "execution_count": 133,
   "id": "c7b240a5",
   "metadata": {},
   "outputs": [
    {
     "name": "stdout",
     "output_type": "stream",
     "text": [
      "Calinski-Harabasz index of 3 clusters: 69.633\n",
      "Calinski-Harabasz index of 4 clusters: 63.248\n"
     ]
    }
   ],
   "source": [
    "print(\"Calinski-Harabasz index of 3 clusters: %0.3f\"% metrics.calinski_harabasz_score(df_scaled_PCA, model_3clusters))\n",
    "print(\"Calinski-Harabasz index of 4 clusters: %0.3f\"% metrics.calinski_harabasz_score(df_scaled_PCA, model_4clusters))"
   ]
  },
  {
   "cell_type": "markdown",
   "id": "785f1ef4",
   "metadata": {},
   "source": [
    "    From the performance metrics, we can notice that 3 cluster solution is performing better and is also the elbow point"
   ]
  },
  {
   "cell_type": "markdown",
   "id": "195372bd",
   "metadata": {},
   "source": [
    "###  <font color='Green'>2.3 Examining Chararcteristics with 3 cluster solution</font>"
   ]
  },
  {
   "cell_type": "code",
   "execution_count": 135,
   "id": "66866ac6",
   "metadata": {},
   "outputs": [
    {
     "name": "stdout",
     "output_type": "stream",
     "text": [
      "model_3clusters\n",
      "0    63\n",
      "1    44\n",
      "2    52\n",
      "dtype: int64\n",
      "\n"
     ]
    }
   ],
   "source": [
    "df_scaled[\"model_3clusters\"] = model_3clusters\n",
    "cluster_size3 = df_scaled.groupby(['model_3clusters']).size() \n",
    "print(cluster_size3)\n",
    "print(\"\")"
   ]
  },
  {
   "cell_type": "code",
   "execution_count": 136,
   "id": "ff22ce63",
   "metadata": {},
   "outputs": [
    {
     "data": {
      "text/html": [
       "<div>\n",
       "<style scoped>\n",
       "    .dataframe tbody tr th:only-of-type {\n",
       "        vertical-align: middle;\n",
       "    }\n",
       "\n",
       "    .dataframe tbody tr th {\n",
       "        vertical-align: top;\n",
       "    }\n",
       "\n",
       "    .dataframe thead th {\n",
       "        text-align: right;\n",
       "    }\n",
       "</style>\n",
       "<table border=\"1\" class=\"dataframe\">\n",
       "  <thead>\n",
       "    <tr style=\"text-align: right;\">\n",
       "      <th></th>\n",
       "      <th>length</th>\n",
       "      <th>wheel-base</th>\n",
       "      <th>width</th>\n",
       "      <th>cluster_size</th>\n",
       "    </tr>\n",
       "    <tr>\n",
       "      <th>model_3clusters</th>\n",
       "      <th></th>\n",
       "      <th></th>\n",
       "      <th></th>\n",
       "      <th></th>\n",
       "    </tr>\n",
       "  </thead>\n",
       "  <tbody>\n",
       "    <tr>\n",
       "      <th>0</th>\n",
       "      <td>-0.02</td>\n",
       "      <td>-0.16</td>\n",
       "      <td>-0.16</td>\n",
       "      <td>63</td>\n",
       "    </tr>\n",
       "    <tr>\n",
       "      <th>1</th>\n",
       "      <td>1.18</td>\n",
       "      <td>1.17</td>\n",
       "      <td>1.23</td>\n",
       "      <td>44</td>\n",
       "    </tr>\n",
       "    <tr>\n",
       "      <th>2</th>\n",
       "      <td>-0.98</td>\n",
       "      <td>-0.80</td>\n",
       "      <td>-0.85</td>\n",
       "      <td>52</td>\n",
       "    </tr>\n",
       "  </tbody>\n",
       "</table>\n",
       "</div>"
      ],
      "text/plain": [
       "                 length  wheel-base  width  cluster_size\n",
       "model_3clusters                                         \n",
       "0                 -0.02       -0.16  -0.16            63\n",
       "1                  1.18        1.17   1.23            44\n",
       "2                 -0.98       -0.80  -0.85            52"
      ]
     },
     "execution_count": 136,
     "metadata": {},
     "output_type": "execute_result"
    }
   ],
   "source": [
    "values=['wheel-base','length','width']\n",
    "index =['model_3clusters']\n",
    "aggfunc={'wheel-base': np.mean,\n",
    "         'length': np.mean,\n",
    "         'width': np.mean}\n",
    "result = pd.pivot_table(df_scaled,values=values,\n",
    "                             index =index,\n",
    "                             aggfunc=aggfunc,\n",
    "                             fill_value=0)\n",
    "result['cluster_size'] = cluster_size3\n",
    "result = result.round(2)\n",
    "result"
   ]
  },
  {
   "cell_type": "markdown",
   "id": "18cda9dd",
   "metadata": {},
   "source": [
    "<b> Insights: </b>\n",
    "\n",
    "Classification on the basis of cluster size, cluster 0 is the larger cluster containing 63 data points followed by cluster 2 with 52 data points and the last is cluster 1 with 44 data points.\n",
    "\n",
    "We can notice that cluster 0 & 2 has lowest length, width & wheel base of the automobile model whereas cluster 1 has all the three features higher than other two."
   ]
  },
  {
   "cell_type": "code",
   "execution_count": 137,
   "id": "5fb5637a",
   "metadata": {},
   "outputs": [
    {
     "data": {
      "text/html": [
       "<div>\n",
       "<style scoped>\n",
       "    .dataframe tbody tr th:only-of-type {\n",
       "        vertical-align: middle;\n",
       "    }\n",
       "\n",
       "    .dataframe tbody tr th {\n",
       "        vertical-align: top;\n",
       "    }\n",
       "\n",
       "    .dataframe thead th {\n",
       "        text-align: right;\n",
       "    }\n",
       "</style>\n",
       "<table border=\"1\" class=\"dataframe\">\n",
       "  <thead>\n",
       "    <tr style=\"text-align: right;\">\n",
       "      <th></th>\n",
       "      <th>bore</th>\n",
       "      <th>height</th>\n",
       "      <th>stroke</th>\n",
       "      <th>cluster_size</th>\n",
       "    </tr>\n",
       "    <tr>\n",
       "      <th>model_3clusters</th>\n",
       "      <th></th>\n",
       "      <th></th>\n",
       "      <th></th>\n",
       "      <th></th>\n",
       "    </tr>\n",
       "  </thead>\n",
       "  <tbody>\n",
       "    <tr>\n",
       "      <th>0</th>\n",
       "      <td>0.16</td>\n",
       "      <td>-0.11</td>\n",
       "      <td>0.02</td>\n",
       "      <td>63</td>\n",
       "    </tr>\n",
       "    <tr>\n",
       "      <th>1</th>\n",
       "      <td>0.86</td>\n",
       "      <td>0.57</td>\n",
       "      <td>0.08</td>\n",
       "      <td>44</td>\n",
       "    </tr>\n",
       "    <tr>\n",
       "      <th>2</th>\n",
       "      <td>-0.92</td>\n",
       "      <td>-0.34</td>\n",
       "      <td>-0.09</td>\n",
       "      <td>52</td>\n",
       "    </tr>\n",
       "  </tbody>\n",
       "</table>\n",
       "</div>"
      ],
      "text/plain": [
       "                 bore  height  stroke  cluster_size\n",
       "model_3clusters                                    \n",
       "0                0.16   -0.11    0.02            63\n",
       "1                0.86    0.57    0.08            44\n",
       "2               -0.92   -0.34   -0.09            52"
      ]
     },
     "execution_count": 137,
     "metadata": {},
     "output_type": "execute_result"
    }
   ],
   "source": [
    "values=['height','bore','stroke']\n",
    "index =['model_3clusters']\n",
    "aggfunc={'height': np.mean,\n",
    "         'bore': np.mean,\n",
    "         'stroke': np.mean}\n",
    "result = pd.pivot_table(df_scaled,values=values,\n",
    "                             index =index,\n",
    "                             aggfunc=aggfunc,\n",
    "                             fill_value=0)\n",
    "result['cluster_size'] = cluster_size3\n",
    "result = result.round(2)\n",
    "result"
   ]
  },
  {
   "cell_type": "markdown",
   "id": "931b4680",
   "metadata": {},
   "source": [
    "<b> Insights: </b>\n",
    "\n",
    "Cluster 1 has models with highest diameter of each wheel in the automobile (bore), with highest height and highest number of phases in engine's cycle(stroke).\n",
    "\n",
    "Cluster 2 has models with lowest diameter of each wheel(bore), lowest height of the model and low number of phases in engine's cycle(stroke).\n",
    "\n",
    "Cluster 0 has models with less height but medium diameter of each wheel and number of phases in engine's cycle of the model.\n"
   ]
  },
  {
   "cell_type": "code",
   "execution_count": 138,
   "id": "c3777134",
   "metadata": {},
   "outputs": [
    {
     "data": {
      "text/html": [
       "<div>\n",
       "<style scoped>\n",
       "    .dataframe tbody tr th:only-of-type {\n",
       "        vertical-align: middle;\n",
       "    }\n",
       "\n",
       "    .dataframe tbody tr th {\n",
       "        vertical-align: top;\n",
       "    }\n",
       "\n",
       "    .dataframe thead th {\n",
       "        text-align: right;\n",
       "    }\n",
       "</style>\n",
       "<table border=\"1\" class=\"dataframe\">\n",
       "  <thead>\n",
       "    <tr style=\"text-align: right;\">\n",
       "      <th></th>\n",
       "      <th>compression-ratio</th>\n",
       "      <th>horsepower</th>\n",
       "      <th>peak-rpm</th>\n",
       "      <th>cluster_size</th>\n",
       "    </tr>\n",
       "    <tr>\n",
       "      <th>model_3clusters</th>\n",
       "      <th></th>\n",
       "      <th></th>\n",
       "      <th></th>\n",
       "      <th></th>\n",
       "    </tr>\n",
       "  </thead>\n",
       "  <tbody>\n",
       "    <tr>\n",
       "      <th>0</th>\n",
       "      <td>-0.31</td>\n",
       "      <td>-0.02</td>\n",
       "      <td>-0.04</td>\n",
       "      <td>63</td>\n",
       "    </tr>\n",
       "    <tr>\n",
       "      <th>1</th>\n",
       "      <td>0.24</td>\n",
       "      <td>1.15</td>\n",
       "      <td>-0.15</td>\n",
       "      <td>44</td>\n",
       "    </tr>\n",
       "    <tr>\n",
       "      <th>2</th>\n",
       "      <td>0.17</td>\n",
       "      <td>-0.95</td>\n",
       "      <td>0.17</td>\n",
       "      <td>52</td>\n",
       "    </tr>\n",
       "  </tbody>\n",
       "</table>\n",
       "</div>"
      ],
      "text/plain": [
       "                 compression-ratio  horsepower  peak-rpm  cluster_size\n",
       "model_3clusters                                                       \n",
       "0                            -0.31       -0.02     -0.04            63\n",
       "1                             0.24        1.15     -0.15            44\n",
       "2                             0.17       -0.95      0.17            52"
      ]
     },
     "execution_count": 138,
     "metadata": {},
     "output_type": "execute_result"
    }
   ],
   "source": [
    "values=['compression-ratio','horsepower','peak-rpm']\n",
    "index =['model_3clusters']\n",
    "aggfunc={'compression-ratio': np.mean,\n",
    "         'horsepower': np.mean,\n",
    "         'peak-rpm': np.mean}\n",
    "result = pd.pivot_table(df_scaled,values=values,\n",
    "                             index =index,\n",
    "                             aggfunc=aggfunc,\n",
    "                             fill_value=0)\n",
    "result['cluster_size'] = cluster_size3\n",
    "result = result.round(2)\n",
    "result"
   ]
  },
  {
   "cell_type": "markdown",
   "id": "20b9143f",
   "metadata": {},
   "source": [
    "<b> Insights: </b>\n",
    "\n",
    "Cluster 1 has models with highest volume of cylinder and chamber (compression-ratio) in the engine with highest power automobile (horsepower) but low revolutions per minute (peak-rpm)\n",
    "\n",
    "Cluster 0 has models with lowest volume of cylinder and chamber in the engine (compression-ratio), low power automobile (horsepower) and low revolutions per minute ((peak-rpm)\n",
    "\n",
    "Cluster 2 has models with lowest power automobile (horsepower) but medium volume of cylinder and chamber of the engine (compression-ratio) with medium revolutions per minute (peak-rpm)"
   ]
  },
  {
   "cell_type": "code",
   "execution_count": 189,
   "id": "3659d101",
   "metadata": {},
   "outputs": [
    {
     "data": {
      "text/html": [
       "<div>\n",
       "<style scoped>\n",
       "    .dataframe tbody tr th:only-of-type {\n",
       "        vertical-align: middle;\n",
       "    }\n",
       "\n",
       "    .dataframe tbody tr th {\n",
       "        vertical-align: top;\n",
       "    }\n",
       "\n",
       "    .dataframe thead th {\n",
       "        text-align: right;\n",
       "    }\n",
       "</style>\n",
       "<table border=\"1\" class=\"dataframe\">\n",
       "  <thead>\n",
       "    <tr style=\"text-align: right;\">\n",
       "      <th></th>\n",
       "      <th>city-mpg</th>\n",
       "      <th>highway-mpg</th>\n",
       "      <th>price</th>\n",
       "      <th>cluster_size</th>\n",
       "    </tr>\n",
       "    <tr>\n",
       "      <th>model_3clusters</th>\n",
       "      <th></th>\n",
       "      <th></th>\n",
       "      <th></th>\n",
       "      <th></th>\n",
       "    </tr>\n",
       "  </thead>\n",
       "  <tbody>\n",
       "    <tr>\n",
       "      <th>0</th>\n",
       "      <td>-0.20</td>\n",
       "      <td>-0.18</td>\n",
       "      <td>-0.25</td>\n",
       "      <td>97</td>\n",
       "    </tr>\n",
       "    <tr>\n",
       "      <th>1</th>\n",
       "      <td>-1.02</td>\n",
       "      <td>-1.04</td>\n",
       "      <td>1.29</td>\n",
       "      <td>39</td>\n",
       "    </tr>\n",
       "    <tr>\n",
       "      <th>2</th>\n",
       "      <td>1.10</td>\n",
       "      <td>1.09</td>\n",
       "      <td>-0.79</td>\n",
       "      <td>23</td>\n",
       "    </tr>\n",
       "  </tbody>\n",
       "</table>\n",
       "</div>"
      ],
      "text/plain": [
       "                 city-mpg  highway-mpg  price  cluster_size\n",
       "model_3clusters                                            \n",
       "0                   -0.20        -0.18  -0.25            97\n",
       "1                   -1.02        -1.04   1.29            39\n",
       "2                    1.10         1.09  -0.79            23"
      ]
     },
     "execution_count": 189,
     "metadata": {},
     "output_type": "execute_result"
    }
   ],
   "source": [
    "values=['city-mpg','highway-mpg','price']\n",
    "index =['model_3clusters']\n",
    "aggfunc={'city-mpg': np.mean,\n",
    "         'highway-mpg': np.mean,\n",
    "         'price': np.mean}\n",
    "result = pd.pivot_table(df_scaled,values=values,\n",
    "                             index =index,\n",
    "                             aggfunc=aggfunc,\n",
    "                             fill_value=0)\n",
    "result['cluster_size'] = cluster_size3\n",
    "result = result.round(2)\n",
    "result"
   ]
  },
  {
   "cell_type": "markdown",
   "id": "ea4d75a8",
   "metadata": {},
   "source": [
    "<b> Insights: </b>\n",
    "\n",
    "Cluster 2 has cheapest automobile models (price) with highest scoring car in an average city (city-mpg) & highway (highway-mpg)\n",
    "\n",
    "Cluster 1 are the most expensive automobile models with lowest scoring car in an average city or highway as it is pretty obviuos that in an average city or highway the number of expensive cars would be less due to affordability of the citizens and road infrastructure\n",
    "\n",
    "Cluster 0 has average price automobile model with medium score in city & highway and highest number of data points"
   ]
  },
  {
   "cell_type": "markdown",
   "id": "6e0c47ca",
   "metadata": {},
   "source": [
    "### CONCLUSION"
   ]
  },
  {
   "cell_type": "markdown",
   "id": "d05f08c9",
   "metadata": {},
   "source": [
    "<ul>\n",
    "    <li>Cluster 0: It has the highest number of data points </li>\n",
    "    <li>Cluster 1: </li>\n",
    "        <li>Cluster 2: </li>  \n",
    "</ul>    "
   ]
  },
  {
   "cell_type": "markdown",
   "id": "38be48c8",
   "metadata": {},
   "source": [
    "## <font color='Green'>3.1 Building Hierarchial Clustering Model</font>"
   ]
  },
  {
   "cell_type": "code",
   "execution_count": 177,
   "id": "2296a021",
   "metadata": {},
   "outputs": [],
   "source": [
    "from sklearn.cluster import AgglomerativeClustering\n",
    "clusterid3 = AgglomerativeClustering(n_clusters=3,affinity='euclidean',linkage='ward').fit(df_scaled_PCA).labels_\n",
    "clusterid4 = AgglomerativeClustering(n_clusters=4,affinity='euclidean',linkage='ward').fit(df_scaled_PCA).labels_\n",
    "clusterid5 = AgglomerativeClustering(n_clusters=5,affinity='euclidean',linkage='ward').fit(df_scaled_PCA).labels_\n",
    "clusterid6 = AgglomerativeClustering(n_clusters=6,affinity='euclidean',linkage='ward').fit(df_scaled_PCA).labels_\n",
    "clusterid7 = AgglomerativeClustering(n_clusters=7,affinity='euclidean',linkage='ward').fit(df_scaled_PCA).labels_\n",
    "clusterid8 = AgglomerativeClustering(n_clusters=8,affinity='euclidean',linkage='ward').fit(df_scaled_PCA).labels_\n",
    "clusterid9 = AgglomerativeClustering(n_clusters=9,affinity='euclidean',linkage='ward').fit(df_scaled_PCA).labels_\n",
    "clusterid10 = AgglomerativeClustering(n_clusters=10,affinity='euclidean',linkage='ward').fit(df_scaled_PCA).labels_"
   ]
  },
  {
   "cell_type": "markdown",
   "id": "07499e13",
   "metadata": {},
   "source": [
    "# Assign Cluster Labels"
   ]
  },
  {
   "cell_type": "code",
   "execution_count": 178,
   "id": "84339146",
   "metadata": {},
   "outputs": [
    {
     "name": "stdout",
     "output_type": "stream",
     "text": [
      "clusterid3\n",
      "0    97\n",
      "1    39\n",
      "2    23\n",
      "dtype: int64\n",
      "\n",
      "clusterid4\n",
      "0    59\n",
      "1    39\n",
      "2    23\n",
      "3    38\n",
      "dtype: int64\n",
      "\n",
      "clusterid5\n",
      "0    39\n",
      "1    38\n",
      "2    23\n",
      "3    29\n",
      "4    30\n",
      "dtype: int64\n",
      "\n",
      "clusterid6\n",
      "0    30\n",
      "1    38\n",
      "2    23\n",
      "3    29\n",
      "4    30\n",
      "5     9\n",
      "dtype: int64\n",
      "\n",
      "clusterid7\n",
      "0    23\n",
      "1    38\n",
      "2     9\n",
      "3    29\n",
      "4    30\n",
      "5    18\n",
      "6    12\n",
      "dtype: int64\n",
      "clusterid8\n",
      "0    38\n",
      "1    29\n",
      "2     9\n",
      "3    17\n",
      "4    30\n",
      "5    18\n",
      "6    12\n",
      "7     6\n",
      "dtype: int64\n"
     ]
    }
   ],
   "source": [
    "df_scaled_PCA[\"clusterid3\"] = clusterid3\n",
    "df_scaled_PCA[\"clusterid4\"] = clusterid4\n",
    "df_scaled_PCA[\"clusterid5\"] = clusterid5\n",
    "df_scaled_PCA[\"clusterid6\"] = clusterid6\n",
    "df_scaled_PCA[\"clusterid7\"] = clusterid7\n",
    "df_scaled_PCA[\"clusterid8\"] = clusterid8\n",
    "df_scaled_PCA[\"clusterid9\"] = clusterid9\n",
    "df_scaled_PCA[\"clusterid10\"] = clusterid10\n",
    "\n",
    "cluster_size3 = df_scaled_PCA.groupby(['clusterid3']).size() \n",
    "cluster_size4 = df_scaled_PCA.groupby(['clusterid4']).size() \n",
    "cluster_size5 = df_scaled_PCA.groupby(['clusterid5']).size() \n",
    "cluster_size6 = df_scaled_PCA.groupby(['clusterid6']).size()\n",
    "cluster_size7 = df_scaled_PCA.groupby(['clusterid7']).size()\n",
    "cluster_size8 = df_scaled_PCA.groupby(['clusterid8']).size()\n",
    "cluster_size9 = df_scaled_PCA.groupby(['clusterid9']).size()\n",
    "cluster_size10 = df_scaled_PCA.groupby(['clusterid10']).size()\n",
    "\n",
    "print(cluster_size3)\n",
    "print(\"\")\n",
    "print(cluster_size4)\n",
    "print(\"\")\n",
    "print(cluster_size5)\n",
    "print(\"\")\n",
    "print(cluster_size6)\n",
    "print(\"\")\n",
    "print(cluster_size7)\n",
    "print(cluster_size8)"
   ]
  },
  {
   "cell_type": "markdown",
   "id": "1f2ee3e2",
   "metadata": {},
   "source": [
    "## <font color='Green'>3.2 Measuring the Performance</font>"
   ]
  },
  {
   "cell_type": "markdown",
   "id": "387bba1f",
   "metadata": {},
   "source": [
    "###  Performance Measure: Silhouette Score"
   ]
  },
  {
   "cell_type": "code",
   "execution_count": 179,
   "id": "bb3f82e2",
   "metadata": {},
   "outputs": [
    {
     "name": "stdout",
     "output_type": "stream",
     "text": [
      "Silhouette Coefficient of 3 clusters: 0.301\n",
      "Silhouette Coefficient of 4 clusters: 0.483\n",
      "Silhouette Coefficient of 5 clusters: 0.569\n",
      "Silhouette Coefficient of 6 clusters: 0.633\n",
      "Silhouette Coefficient of 7 clusters: 0.622\n",
      "Silhouette Coefficient of 8 clusters: 0.660\n",
      "Silhouette Coefficient of 9 clusters: 0.622\n",
      "Silhouette Coefficient of 10 clusters: 0.598\n"
     ]
    }
   ],
   "source": [
    "print(\"Silhouette Coefficient of 3 clusters: %0.3f\"% metrics.silhouette_score(df_scaled_PCA, clusterid3))\n",
    "print(\"Silhouette Coefficient of 4 clusters: %0.3f\"% metrics.silhouette_score(df_scaled_PCA, clusterid4))\n",
    "print(\"Silhouette Coefficient of 5 clusters: %0.3f\"% metrics.silhouette_score(df_scaled_PCA, clusterid5))\n",
    "print(\"Silhouette Coefficient of 6 clusters: %0.3f\"% metrics.silhouette_score(df_scaled_PCA, clusterid6))\n",
    "print(\"Silhouette Coefficient of 7 clusters: %0.3f\"% metrics.silhouette_score(df_scaled_PCA, clusterid7))\n",
    "print(\"Silhouette Coefficient of 8 clusters: %0.3f\"% metrics.silhouette_score(df_scaled_PCA, clusterid8))\n",
    "print(\"Silhouette Coefficient of 9 clusters: %0.3f\"% metrics.silhouette_score(df_scaled_PCA, clusterid9))\n",
    "print(\"Silhouette Coefficient of 10 clusters: %0.3f\"% metrics.silhouette_score(df_scaled_PCA, clusterid10))"
   ]
  },
  {
   "cell_type": "markdown",
   "id": "ad2628ec",
   "metadata": {},
   "source": [
    "###  Performance Measure: Calinski-Harabasz Index"
   ]
  },
  {
   "cell_type": "code",
   "execution_count": 180,
   "id": "c8b7ff17",
   "metadata": {},
   "outputs": [
    {
     "name": "stdout",
     "output_type": "stream",
     "text": [
      "Calinski-Harabasz index of 3 clusters: 35.890\n",
      "Calinski-Harabasz index of 4 clusters: 85.549\n",
      "Calinski-Harabasz index of 5 clusters: 117.445\n",
      "Calinski-Harabasz index of 6 clusters: 188.320\n",
      "Calinski-Harabasz index of 7 clusters: 180.083\n",
      "Calinski-Harabasz index of 8 clusters: 226.160\n",
      "Calinski-Harabasz index of 9 clusters: 240.381\n",
      "Calinski-Harabasz index of 10 clusters: 233.249\n"
     ]
    }
   ],
   "source": [
    "print(\"Calinski-Harabasz index of 3 clusters: %0.3f\"% metrics.calinski_harabasz_score(df_scaled_PCA, clusterid3))\n",
    "print(\"Calinski-Harabasz index of 4 clusters: %0.3f\"% metrics.calinski_harabasz_score(df_scaled_PCA, clusterid4))\n",
    "print(\"Calinski-Harabasz index of 5 clusters: %0.3f\"% metrics.calinski_harabasz_score(df_scaled_PCA, clusterid5))\n",
    "print(\"Calinski-Harabasz index of 6 clusters: %0.3f\"% metrics.calinski_harabasz_score(df_scaled_PCA, clusterid6))\n",
    "print(\"Calinski-Harabasz index of 7 clusters: %0.3f\"% metrics.calinski_harabasz_score(df_scaled_PCA, clusterid7))\n",
    "print(\"Calinski-Harabasz index of 8 clusters: %0.3f\"% metrics.calinski_harabasz_score(df_scaled_PCA, clusterid8))\n",
    "print(\"Calinski-Harabasz index of 9 clusters: %0.3f\"% metrics.calinski_harabasz_score(df_scaled_PCA, clusterid9))\n",
    "print(\"Calinski-Harabasz index of 10 clusters: %0.3f\"% metrics.calinski_harabasz_score(df_scaled_PCA, clusterid10))"
   ]
  },
  {
   "cell_type": "markdown",
   "id": "d404c43d",
   "metadata": {},
   "source": [
    "<b> From the above metrics, we can observe that 9 cluster solution is good.</b>"
   ]
  },
  {
   "cell_type": "code",
   "execution_count": 181,
   "id": "f72d9b1e",
   "metadata": {},
   "outputs": [
    {
     "name": "stdout",
     "output_type": "stream",
     "text": [
      "clusterid9\n",
      "0    29\n",
      "1    10\n",
      "2     9\n",
      "3    28\n",
      "4    30\n",
      "5    18\n",
      "6    12\n",
      "7     6\n",
      "8    17\n",
      "dtype: int64\n",
      "\n"
     ]
    }
   ],
   "source": [
    "df_scaled[\"clusterid9\"] = clusterid9\n",
    "cluster_size9 = df_scaled.groupby(['clusterid9']).size() \n",
    "print(cluster_size9)\n",
    "print(\"\")"
   ]
  },
  {
   "cell_type": "markdown",
   "id": "041e1bcd",
   "metadata": {},
   "source": [
    "###  <font color='Green'>3.3 Examining Chararcteristics</font>"
   ]
  },
  {
   "cell_type": "code",
   "execution_count": 184,
   "id": "edecb7e4",
   "metadata": {},
   "outputs": [
    {
     "data": {
      "text/html": [
       "<div>\n",
       "<style scoped>\n",
       "    .dataframe tbody tr th:only-of-type {\n",
       "        vertical-align: middle;\n",
       "    }\n",
       "\n",
       "    .dataframe tbody tr th {\n",
       "        vertical-align: top;\n",
       "    }\n",
       "\n",
       "    .dataframe thead th {\n",
       "        text-align: right;\n",
       "    }\n",
       "</style>\n",
       "<table border=\"1\" class=\"dataframe\">\n",
       "  <thead>\n",
       "    <tr style=\"text-align: right;\">\n",
       "      <th></th>\n",
       "      <th>length</th>\n",
       "      <th>wheel-base</th>\n",
       "      <th>width</th>\n",
       "      <th>cluster_size</th>\n",
       "    </tr>\n",
       "    <tr>\n",
       "      <th>clusterid9</th>\n",
       "      <th></th>\n",
       "      <th></th>\n",
       "      <th></th>\n",
       "      <th></th>\n",
       "    </tr>\n",
       "  </thead>\n",
       "  <tbody>\n",
       "    <tr>\n",
       "      <th>0</th>\n",
       "      <td>-0.57</td>\n",
       "      <td>-0.57</td>\n",
       "      <td>-0.83</td>\n",
       "      <td>29</td>\n",
       "    </tr>\n",
       "    <tr>\n",
       "      <th>1</th>\n",
       "      <td>0.84</td>\n",
       "      <td>0.40</td>\n",
       "      <td>1.76</td>\n",
       "      <td>10</td>\n",
       "    </tr>\n",
       "    <tr>\n",
       "      <th>2</th>\n",
       "      <td>1.40</td>\n",
       "      <td>2.01</td>\n",
       "      <td>1.87</td>\n",
       "      <td>9</td>\n",
       "    </tr>\n",
       "    <tr>\n",
       "      <th>3</th>\n",
       "      <td>1.15</td>\n",
       "      <td>1.04</td>\n",
       "      <td>0.78</td>\n",
       "      <td>28</td>\n",
       "    </tr>\n",
       "    <tr>\n",
       "      <th>4</th>\n",
       "      <td>-0.45</td>\n",
       "      <td>-0.50</td>\n",
       "      <td>-0.42</td>\n",
       "      <td>30</td>\n",
       "    </tr>\n",
       "    <tr>\n",
       "      <th>5</th>\n",
       "      <td>0.35</td>\n",
       "      <td>0.25</td>\n",
       "      <td>0.20</td>\n",
       "      <td>18</td>\n",
       "    </tr>\n",
       "    <tr>\n",
       "      <th>6</th>\n",
       "      <td>-0.31</td>\n",
       "      <td>-0.41</td>\n",
       "      <td>-0.34</td>\n",
       "      <td>12</td>\n",
       "    </tr>\n",
       "    <tr>\n",
       "      <th>7</th>\n",
       "      <td>-0.31</td>\n",
       "      <td>-0.38</td>\n",
       "      <td>-0.39</td>\n",
       "      <td>6</td>\n",
       "    </tr>\n",
       "    <tr>\n",
       "      <th>8</th>\n",
       "      <td>-1.40</td>\n",
       "      <td>-1.01</td>\n",
       "      <td>-0.99</td>\n",
       "      <td>17</td>\n",
       "    </tr>\n",
       "  </tbody>\n",
       "</table>\n",
       "</div>"
      ],
      "text/plain": [
       "            length  wheel-base  width  cluster_size\n",
       "clusterid9                                         \n",
       "0            -0.57       -0.57  -0.83            29\n",
       "1             0.84        0.40   1.76            10\n",
       "2             1.40        2.01   1.87             9\n",
       "3             1.15        1.04   0.78            28\n",
       "4            -0.45       -0.50  -0.42            30\n",
       "5             0.35        0.25   0.20            18\n",
       "6            -0.31       -0.41  -0.34            12\n",
       "7            -0.31       -0.38  -0.39             6\n",
       "8            -1.40       -1.01  -0.99            17"
      ]
     },
     "execution_count": 184,
     "metadata": {},
     "output_type": "execute_result"
    }
   ],
   "source": [
    "values=['wheel-base','length','width']\n",
    "index =['clusterid9']\n",
    "aggfunc={'wheel-base': np.mean,\n",
    "         'length': np.mean,\n",
    "         'width': np.mean}\n",
    "result = pd.pivot_table(df_scaled,values=values,\n",
    "                             index =index,\n",
    "                             aggfunc=aggfunc,\n",
    "                             fill_value=0)\n",
    "result['cluster_size'] = cluster_size9\n",
    "result = result.round(2)\n",
    "result"
   ]
  },
  {
   "cell_type": "markdown",
   "id": "3489d1bc",
   "metadata": {},
   "source": [
    "<b> Insights: </b>\n",
    "\n",
    "Cluster 2 & 3 have automobile models of highest length while Cluster 1 & 5 have medium length models whereas cluster 0,4,6,7,8 have lowest length automobile models\n",
    "\n",
    "It can be observed that clusters with highest length have highest type of wheel base as well (cluster 2 & 3), cluster 1 & 5 have medium wheel base model whereas cluster 0,4,6,7,8 have low type of wheel base\n",
    "\n",
    "Cluster 1 & 2 have highest width of the automobile model while cluster 3 & 5 have medium width models wheras cluster 0,4,6,7,8 have lowest width automobile models"
   ]
  },
  {
   "cell_type": "code",
   "execution_count": 185,
   "id": "aa04b670",
   "metadata": {},
   "outputs": [
    {
     "data": {
      "text/html": [
       "<div>\n",
       "<style scoped>\n",
       "    .dataframe tbody tr th:only-of-type {\n",
       "        vertical-align: middle;\n",
       "    }\n",
       "\n",
       "    .dataframe tbody tr th {\n",
       "        vertical-align: top;\n",
       "    }\n",
       "\n",
       "    .dataframe thead th {\n",
       "        text-align: right;\n",
       "    }\n",
       "</style>\n",
       "<table border=\"1\" class=\"dataframe\">\n",
       "  <thead>\n",
       "    <tr style=\"text-align: right;\">\n",
       "      <th></th>\n",
       "      <th>bore</th>\n",
       "      <th>height</th>\n",
       "      <th>stroke</th>\n",
       "      <th>cluster_size</th>\n",
       "    </tr>\n",
       "    <tr>\n",
       "      <th>clusterid9</th>\n",
       "      <th></th>\n",
       "      <th></th>\n",
       "      <th></th>\n",
       "      <th></th>\n",
       "    </tr>\n",
       "  </thead>\n",
       "  <tbody>\n",
       "    <tr>\n",
       "      <th>0</th>\n",
       "      <td>-0.63</td>\n",
       "      <td>0.36</td>\n",
       "      <td>-0.26</td>\n",
       "      <td>29</td>\n",
       "    </tr>\n",
       "    <tr>\n",
       "      <th>1</th>\n",
       "      <td>0.44</td>\n",
       "      <td>-0.91</td>\n",
       "      <td>0.45</td>\n",
       "      <td>10</td>\n",
       "    </tr>\n",
       "    <tr>\n",
       "      <th>2</th>\n",
       "      <td>0.83</td>\n",
       "      <td>1.07</td>\n",
       "      <td>1.04</td>\n",
       "      <td>9</td>\n",
       "    </tr>\n",
       "    <tr>\n",
       "      <th>3</th>\n",
       "      <td>0.89</td>\n",
       "      <td>0.86</td>\n",
       "      <td>-0.59</td>\n",
       "      <td>28</td>\n",
       "    </tr>\n",
       "    <tr>\n",
       "      <th>4</th>\n",
       "      <td>-0.58</td>\n",
       "      <td>-0.41</td>\n",
       "      <td>0.67</td>\n",
       "      <td>30</td>\n",
       "    </tr>\n",
       "    <tr>\n",
       "      <th>5</th>\n",
       "      <td>0.57</td>\n",
       "      <td>-0.17</td>\n",
       "      <td>0.78</td>\n",
       "      <td>18</td>\n",
       "    </tr>\n",
       "    <tr>\n",
       "      <th>6</th>\n",
       "      <td>1.20</td>\n",
       "      <td>-0.07</td>\n",
       "      <td>-2.11</td>\n",
       "      <td>12</td>\n",
       "    </tr>\n",
       "    <tr>\n",
       "      <th>7</th>\n",
       "      <td>-0.78</td>\n",
       "      <td>0.30</td>\n",
       "      <td>0.54</td>\n",
       "      <td>6</td>\n",
       "    </tr>\n",
       "    <tr>\n",
       "      <th>8</th>\n",
       "      <td>-1.25</td>\n",
       "      <td>-1.22</td>\n",
       "      <td>-0.11</td>\n",
       "      <td>17</td>\n",
       "    </tr>\n",
       "  </tbody>\n",
       "</table>\n",
       "</div>"
      ],
      "text/plain": [
       "            bore  height  stroke  cluster_size\n",
       "clusterid9                                    \n",
       "0          -0.63    0.36   -0.26            29\n",
       "1           0.44   -0.91    0.45            10\n",
       "2           0.83    1.07    1.04             9\n",
       "3           0.89    0.86   -0.59            28\n",
       "4          -0.58   -0.41    0.67            30\n",
       "5           0.57   -0.17    0.78            18\n",
       "6           1.20   -0.07   -2.11            12\n",
       "7          -0.78    0.30    0.54             6\n",
       "8          -1.25   -1.22   -0.11            17"
      ]
     },
     "execution_count": 185,
     "metadata": {},
     "output_type": "execute_result"
    }
   ],
   "source": [
    "values=['height','bore','stroke']\n",
    "index =['clusterid9']\n",
    "aggfunc={'height': np.mean,\n",
    "         'bore': np.mean,\n",
    "         'stroke': np.mean}\n",
    "result = pd.pivot_table(df_scaled,values=values,\n",
    "                             index =index,\n",
    "                             aggfunc=aggfunc,\n",
    "                             fill_value=0)\n",
    "result['cluster_size'] = cluster_size9\n",
    "result = result.round(2)\n",
    "result"
   ]
  },
  {
   "cell_type": "markdown",
   "id": "bc9255e0",
   "metadata": {},
   "source": [
    "<b> Insights: </b>\n",
    "\n",
    "Cluster 6 & 3 have the models with highest diameter of each wheel, whereas cluster 8 and 7 have models with lowest diameter of each wheel\n",
    "\n",
    "Cluster 2 & 3 have models with highest height, whereas cluster 8 & 1 have lowest height models\n",
    "\n",
    "Cluster 2 & 5 have models with more number of phases in engine's cycle than cluster 6 & 3 have models with least number of phases in engine's cycle"
   ]
  },
  {
   "cell_type": "code",
   "execution_count": 187,
   "id": "8c3c2f61",
   "metadata": {},
   "outputs": [
    {
     "data": {
      "text/html": [
       "<div>\n",
       "<style scoped>\n",
       "    .dataframe tbody tr th:only-of-type {\n",
       "        vertical-align: middle;\n",
       "    }\n",
       "\n",
       "    .dataframe tbody tr th {\n",
       "        vertical-align: top;\n",
       "    }\n",
       "\n",
       "    .dataframe thead th {\n",
       "        text-align: right;\n",
       "    }\n",
       "</style>\n",
       "<table border=\"1\" class=\"dataframe\">\n",
       "  <thead>\n",
       "    <tr style=\"text-align: right;\">\n",
       "      <th></th>\n",
       "      <th>compression-ratio</th>\n",
       "      <th>horsepower</th>\n",
       "      <th>peak-rpm</th>\n",
       "      <th>cluster_size</th>\n",
       "    </tr>\n",
       "    <tr>\n",
       "      <th>clusterid9</th>\n",
       "      <th></th>\n",
       "      <th></th>\n",
       "      <th></th>\n",
       "      <th></th>\n",
       "    </tr>\n",
       "  </thead>\n",
       "  <tbody>\n",
       "    <tr>\n",
       "      <th>0</th>\n",
       "      <td>-0.28</td>\n",
       "      <td>-0.88</td>\n",
       "      <td>-0.30</td>\n",
       "      <td>29</td>\n",
       "    </tr>\n",
       "    <tr>\n",
       "      <th>1</th>\n",
       "      <td>-0.37</td>\n",
       "      <td>1.98</td>\n",
       "      <td>0.19</td>\n",
       "      <td>10</td>\n",
       "    </tr>\n",
       "    <tr>\n",
       "      <th>2</th>\n",
       "      <td>2.95</td>\n",
       "      <td>0.34</td>\n",
       "      <td>-1.65</td>\n",
       "      <td>9</td>\n",
       "    </tr>\n",
       "    <tr>\n",
       "      <th>3</th>\n",
       "      <td>-0.35</td>\n",
       "      <td>1.00</td>\n",
       "      <td>0.44</td>\n",
       "      <td>28</td>\n",
       "    </tr>\n",
       "    <tr>\n",
       "      <th>4</th>\n",
       "      <td>-0.37</td>\n",
       "      <td>-0.07</td>\n",
       "      <td>1.07</td>\n",
       "      <td>30</td>\n",
       "    </tr>\n",
       "    <tr>\n",
       "      <th>5</th>\n",
       "      <td>-0.35</td>\n",
       "      <td>0.26</td>\n",
       "      <td>-1.07</td>\n",
       "      <td>18</td>\n",
       "    </tr>\n",
       "    <tr>\n",
       "      <th>6</th>\n",
       "      <td>-0.35</td>\n",
       "      <td>-0.31</td>\n",
       "      <td>-0.73</td>\n",
       "      <td>12</td>\n",
       "    </tr>\n",
       "    <tr>\n",
       "      <th>7</th>\n",
       "      <td>3.22</td>\n",
       "      <td>-1.28</td>\n",
       "      <td>-1.00</td>\n",
       "      <td>6</td>\n",
       "    </tr>\n",
       "    <tr>\n",
       "      <th>8</th>\n",
       "      <td>-0.17</td>\n",
       "      <td>-0.97</td>\n",
       "      <td>0.67</td>\n",
       "      <td>17</td>\n",
       "    </tr>\n",
       "  </tbody>\n",
       "</table>\n",
       "</div>"
      ],
      "text/plain": [
       "            compression-ratio  horsepower  peak-rpm  cluster_size\n",
       "clusterid9                                                       \n",
       "0                       -0.28       -0.88     -0.30            29\n",
       "1                       -0.37        1.98      0.19            10\n",
       "2                        2.95        0.34     -1.65             9\n",
       "3                       -0.35        1.00      0.44            28\n",
       "4                       -0.37       -0.07      1.07            30\n",
       "5                       -0.35        0.26     -1.07            18\n",
       "6                       -0.35       -0.31     -0.73            12\n",
       "7                        3.22       -1.28     -1.00             6\n",
       "8                       -0.17       -0.97      0.67            17"
      ]
     },
     "execution_count": 187,
     "metadata": {},
     "output_type": "execute_result"
    }
   ],
   "source": [
    "values=['compression-ratio','horsepower','peak-rpm']\n",
    "index =['clusterid9']\n",
    "aggfunc={'compression-ratio': np.mean,\n",
    "         'horsepower': np.mean,\n",
    "         'peak-rpm': np.mean}\n",
    "result = pd.pivot_table(df_scaled,values=values,\n",
    "                             index =index,\n",
    "                             aggfunc=aggfunc,\n",
    "                             fill_value=0)\n",
    "result['cluster_size'] = cluster_size9\n",
    "result = result.round(2)\n",
    "result"
   ]
  },
  {
   "cell_type": "markdown",
   "id": "82c815ac",
   "metadata": {},
   "source": [
    "<b> Insights: </b>\n",
    "\n",
    "Cluster 3 & 2 have models with highest volume of cylinder and chamber in the engine whereas cluster 1 & 4 have models with lowest volume of cylinder and chamber in the engine\n",
    "\n",
    "It can be observed that Cluster 1 & 3 have models with highest power of engine despite having low volume of chamber of the engine, also cluster 7 having haighest volume of cylinder and chamber in the engine have lowest power engine\n",
    "\n",
    "Also Cluster 4 have lowest volume of chamber in the engine but have highest revolutiuons per minute"
   ]
  },
  {
   "cell_type": "code",
   "execution_count": 188,
   "id": "f68af5b0",
   "metadata": {},
   "outputs": [
    {
     "data": {
      "text/html": [
       "<div>\n",
       "<style scoped>\n",
       "    .dataframe tbody tr th:only-of-type {\n",
       "        vertical-align: middle;\n",
       "    }\n",
       "\n",
       "    .dataframe tbody tr th {\n",
       "        vertical-align: top;\n",
       "    }\n",
       "\n",
       "    .dataframe thead th {\n",
       "        text-align: right;\n",
       "    }\n",
       "</style>\n",
       "<table border=\"1\" class=\"dataframe\">\n",
       "  <thead>\n",
       "    <tr style=\"text-align: right;\">\n",
       "      <th></th>\n",
       "      <th>city-mpg</th>\n",
       "      <th>highway-mpg</th>\n",
       "      <th>price</th>\n",
       "      <th>cluster_size</th>\n",
       "    </tr>\n",
       "    <tr>\n",
       "      <th>clusterid9</th>\n",
       "      <th></th>\n",
       "      <th></th>\n",
       "      <th></th>\n",
       "      <th></th>\n",
       "    </tr>\n",
       "  </thead>\n",
       "  <tbody>\n",
       "    <tr>\n",
       "      <th>0</th>\n",
       "      <td>0.60</td>\n",
       "      <td>0.64</td>\n",
       "      <td>-0.70</td>\n",
       "      <td>29</td>\n",
       "    </tr>\n",
       "    <tr>\n",
       "      <th>1</th>\n",
       "      <td>-1.40</td>\n",
       "      <td>-1.41</td>\n",
       "      <td>1.78</td>\n",
       "      <td>10</td>\n",
       "    </tr>\n",
       "    <tr>\n",
       "      <th>2</th>\n",
       "      <td>-0.20</td>\n",
       "      <td>-0.51</td>\n",
       "      <td>1.74</td>\n",
       "      <td>9</td>\n",
       "    </tr>\n",
       "    <tr>\n",
       "      <th>3</th>\n",
       "      <td>-1.07</td>\n",
       "      <td>-1.01</td>\n",
       "      <td>0.83</td>\n",
       "      <td>28</td>\n",
       "    </tr>\n",
       "    <tr>\n",
       "      <th>4</th>\n",
       "      <td>-0.06</td>\n",
       "      <td>-0.01</td>\n",
       "      <td>-0.44</td>\n",
       "      <td>30</td>\n",
       "    </tr>\n",
       "    <tr>\n",
       "      <th>5</th>\n",
       "      <td>-0.30</td>\n",
       "      <td>-0.24</td>\n",
       "      <td>0.08</td>\n",
       "      <td>18</td>\n",
       "    </tr>\n",
       "    <tr>\n",
       "      <th>6</th>\n",
       "      <td>-0.03</td>\n",
       "      <td>-0.21</td>\n",
       "      <td>-0.50</td>\n",
       "      <td>12</td>\n",
       "    </tr>\n",
       "    <tr>\n",
       "      <th>7</th>\n",
       "      <td>1.89</td>\n",
       "      <td>1.93</td>\n",
       "      <td>-0.59</td>\n",
       "      <td>6</td>\n",
       "    </tr>\n",
       "    <tr>\n",
       "      <th>8</th>\n",
       "      <td>1.44</td>\n",
       "      <td>1.41</td>\n",
       "      <td>-0.88</td>\n",
       "      <td>17</td>\n",
       "    </tr>\n",
       "  </tbody>\n",
       "</table>\n",
       "</div>"
      ],
      "text/plain": [
       "            city-mpg  highway-mpg  price  cluster_size\n",
       "clusterid9                                            \n",
       "0               0.60         0.64  -0.70            29\n",
       "1              -1.40        -1.41   1.78            10\n",
       "2              -0.20        -0.51   1.74             9\n",
       "3              -1.07        -1.01   0.83            28\n",
       "4              -0.06        -0.01  -0.44            30\n",
       "5              -0.30        -0.24   0.08            18\n",
       "6              -0.03        -0.21  -0.50            12\n",
       "7               1.89         1.93  -0.59             6\n",
       "8               1.44         1.41  -0.88            17"
      ]
     },
     "execution_count": 188,
     "metadata": {},
     "output_type": "execute_result"
    }
   ],
   "source": [
    "values=['city-mpg','highway-mpg','price']\n",
    "index =['clusterid9']\n",
    "aggfunc={'city-mpg': np.mean,\n",
    "         'highway-mpg': np.mean,\n",
    "         'price': np.mean}\n",
    "result = pd.pivot_table(df_scaled,values=values,\n",
    "                             index =index,\n",
    "                             aggfunc=aggfunc,\n",
    "                             fill_value=0)\n",
    "result['cluster_size'] = cluster_size9\n",
    "result = result.round(2)\n",
    "result"
   ]
  },
  {
   "cell_type": "markdown",
   "id": "983016f5",
   "metadata": {},
   "source": [
    "<b> Insights: </b>\n",
    "\n",
    "Cluster 7 & 8 have lowest price and highest score in number of car in an average city and on a highway whereas cluster 1 & 2 have the models with the most expensive cars and the lowest in number in an average city and on a highway\n",
    "\n",
    "Inference : The more expensive car is the least is the number of car in an average city or on a highway\n",
    "\n",
    "\n"
   ]
  },
  {
   "cell_type": "markdown",
   "id": "a9f36dc1",
   "metadata": {},
   "source": [
    "### CONCLUSION"
   ]
  },
  {
   "cell_type": "markdown",
   "id": "ce33c057",
   "metadata": {},
   "source": [
    "<ul>\n",
    "    <li>Cluster 0: </li>\n",
    "    <li>Cluster 1: </li>\n",
    "    <li>Cluster 2: </li>\n",
    "    <li>Cluster 3: </li>\n",
    "    <li>Cluster 4: </li>\n",
    "    <li>Cluster 5: </li>\n",
    "    <li>Cluster 6: </li>\n",
    "    <li>Cluster 7: </li>\n",
    "    <li>Cluster 8: </li>\n",
    "\n",
    "    \n",
    "</ul>    "
   ]
  },
  {
   "cell_type": "code",
   "execution_count": 191,
   "id": "2d95d3bb",
   "metadata": {},
   "outputs": [],
   "source": [
    "from pyclustering.cluster.kmeans import kmeans\n",
    "from sklearn import metrics\n",
    "from sklearn.preprocessing import StandardScaler\n",
    "from pyclustering.utils.metric import distance_metric\n",
    "from pyclustering.utils.metric import type_metric\n",
    "from pyclustering.utils import calculate_distance_matrix\n",
    "\n",
    "from pyclustering.cluster.center_initializer import kmeans_plusplus_initializer\n",
    "from pyclustering.samples.definitions import FCPS_SAMPLES\n",
    "from pyclustering.utils import read_sample"
   ]
  },
  {
   "cell_type": "markdown",
   "id": "51398f70",
   "metadata": {},
   "source": [
    "## <font color='Green'>4.1 Executing Clustering</font>"
   ]
  },
  {
   "cell_type": "markdown",
   "id": "f30f016f",
   "metadata": {},
   "source": [
    "## <font color='Green'>Prepare initial centers using K-Means++ method</font>"
   ]
  },
  {
   "cell_type": "code",
   "execution_count": 192,
   "id": "915b2b1b",
   "metadata": {},
   "outputs": [],
   "source": [
    "initial_centers = kmeans_plusplus_initializer(df_scaled_PCA, 4).initialize()"
   ]
  },
  {
   "cell_type": "markdown",
   "id": "e7fe2e69",
   "metadata": {},
   "source": [
    "## <font color='Green'>4.2 create metric that will be used for clustering</font>"
   ]
  },
  {
   "cell_type": "code",
   "execution_count": 194,
   "id": "26708893",
   "metadata": {},
   "outputs": [],
   "source": [
    "gower_metric = distance_metric(type_metric.GOWER,data=df_scaled_PCA)"
   ]
  },
  {
   "cell_type": "markdown",
   "id": "8161614a",
   "metadata": {},
   "source": [
    "## <font color='Green'>4.3 Create instance of K-Means using specific distance metric</font>"
   ]
  },
  {
   "cell_type": "code",
   "execution_count": 195,
   "id": "fda20255",
   "metadata": {},
   "outputs": [],
   "source": [
    "kmeans_instance = kmeans(df_scaled_PCA, initial_centers, metric=gower_metric)"
   ]
  },
  {
   "cell_type": "markdown",
   "id": "f5e5d139",
   "metadata": {},
   "source": [
    "## <font color='Green'>4.4 Run cluster analysis and obtain results</font>"
   ]
  },
  {
   "cell_type": "code",
   "execution_count": 196,
   "id": "cc86087e",
   "metadata": {},
   "outputs": [],
   "source": [
    "kmeans_instance.process()\n",
    "clusters = kmeans_instance.get_clusters()"
   ]
  },
  {
   "cell_type": "markdown",
   "id": "fa023839",
   "metadata": {},
   "source": [
    "## <font color='Green'>4.5 Show Allocated Clusters</font>"
   ]
  },
  {
   "cell_type": "code",
   "execution_count": 197,
   "id": "324ab567",
   "metadata": {},
   "outputs": [
    {
     "name": "stdout",
     "output_type": "stream",
     "text": [
      "[[0, 6, 7, 13, 18, 20, 22, 23, 24, 25, 26, 27, 28, 29, 30, 31, 38, 39, 40, 41, 42, 52, 53, 54, 55, 56, 57, 58, 69, 70, 85, 97, 98, 99, 100, 101, 102, 103, 104, 105, 106, 107, 108, 124, 125, 126, 127, 128, 129, 130, 131, 132, 134, 135, 136, 141, 143, 144, 146, 147], [1, 2, 3, 4, 5, 32, 43, 44, 45, 46, 47, 48, 71, 72, 73, 74, 75, 76, 77, 78, 79, 80, 81, 82, 83, 90, 91, 92, 93, 94, 95, 96, 133, 137, 138, 139, 148, 149, 150, 151, 152, 153, 154, 155, 156, 157, 158], [8, 9, 10, 11, 12, 14, 15, 16, 19, 21, 49, 50, 51, 60, 84, 86, 87, 88, 117, 118, 140, 142, 145], [17, 33, 34, 35, 36, 37, 59, 61, 62, 63, 64, 65, 66, 67, 68, 89, 109, 110, 111, 112, 113, 114, 115, 116, 119, 120, 121, 122, 123]]\n"
     ]
    }
   ],
   "source": [
    "print(clusters)"
   ]
  },
  {
   "cell_type": "markdown",
   "id": "71d60222",
   "metadata": {},
   "source": [
    "## <font color='Green'>4.6 Adding the cluster lables to dataframe df for analysis</font>"
   ]
  },
  {
   "cell_type": "code",
   "execution_count": 198,
   "id": "16064659",
   "metadata": {},
   "outputs": [
    {
     "name": "stdout",
     "output_type": "stream",
     "text": [
      "clusterid\n",
      "0    60\n",
      "1    47\n",
      "2    23\n",
      "3    29\n",
      "dtype: int64\n"
     ]
    }
   ],
   "source": [
    "df=df_scaled\n",
    "df['clusterid'] = ''\n",
    "for x in df.index.values:\n",
    "    if x in clusters[0]:\n",
    "       df['clusterid'][x] = 0\n",
    "    elif x in clusters[1]:\n",
    "       df['clusterid'][x] = 1\n",
    "    elif x in clusters[2]:\n",
    "       df['clusterid'][x] = 2\n",
    "    else: \n",
    "       df['clusterid'][x] = 3\n",
    "\n",
    "cluster_size = df.groupby(['clusterid']).size() \n",
    "print(cluster_size)"
   ]
  },
  {
   "cell_type": "markdown",
   "id": "bbd7cbae",
   "metadata": {},
   "source": [
    "## <font color='Green'>4.7 Performance Measures: Silhouette Score</font>"
   ]
  },
  {
   "cell_type": "markdown",
   "id": "c2bbbf9d",
   "metadata": {},
   "source": [
    "### Performance Measures: Silhouette Score"
   ]
  },
  {
   "cell_type": "code",
   "execution_count": 200,
   "id": "e2bf0161",
   "metadata": {},
   "outputs": [
    {
     "name": "stdout",
     "output_type": "stream",
     "text": [
      "Silhouette Coefficient: 0.525\n"
     ]
    }
   ],
   "source": [
    "print(\"Silhouette Coefficient: %0.3f\"% metrics.silhouette_score(df_scaled_PCA, df['clusterid']))\n",
    "# Silhouette score between -1 and 1"
   ]
  },
  {
   "cell_type": "markdown",
   "id": "11c889f6",
   "metadata": {},
   "source": [
    "### Performance Measure: Calinski-Harabasz"
   ]
  },
  {
   "cell_type": "code",
   "execution_count": 201,
   "id": "1622164d",
   "metadata": {},
   "outputs": [
    {
     "name": "stdout",
     "output_type": "stream",
     "text": [
      "Calinski-Harabasz index: 112.981\n"
     ]
    }
   ],
   "source": [
    "print(\"Calinski-Harabasz index: %0.3f\"% metrics.calinski_harabasz_score(df_scaled_PCA, df['clusterid']))"
   ]
  },
  {
   "cell_type": "markdown",
   "id": "2d6c3083",
   "metadata": {},
   "source": [
    "## <font color='Green'>4.8 Examining Chararcteristics</font>"
   ]
  },
  {
   "cell_type": "code",
   "execution_count": 202,
   "id": "2f0230fa",
   "metadata": {},
   "outputs": [
    {
     "data": {
      "text/html": [
       "<div>\n",
       "<style scoped>\n",
       "    .dataframe tbody tr th:only-of-type {\n",
       "        vertical-align: middle;\n",
       "    }\n",
       "\n",
       "    .dataframe tbody tr th {\n",
       "        vertical-align: top;\n",
       "    }\n",
       "\n",
       "    .dataframe thead th {\n",
       "        text-align: right;\n",
       "    }\n",
       "</style>\n",
       "<table border=\"1\" class=\"dataframe\">\n",
       "  <thead>\n",
       "    <tr style=\"text-align: right;\">\n",
       "      <th></th>\n",
       "      <th>length</th>\n",
       "      <th>wheel-base</th>\n",
       "      <th>width</th>\n",
       "      <th>cluster_size</th>\n",
       "    </tr>\n",
       "    <tr>\n",
       "      <th>clusterid</th>\n",
       "      <th></th>\n",
       "      <th></th>\n",
       "      <th></th>\n",
       "      <th></th>\n",
       "    </tr>\n",
       "  </thead>\n",
       "  <tbody>\n",
       "    <tr>\n",
       "      <th>0</th>\n",
       "      <td>-0.18</td>\n",
       "      <td>-0.25</td>\n",
       "      <td>-0.22</td>\n",
       "      <td>60</td>\n",
       "    </tr>\n",
       "    <tr>\n",
       "      <th>1</th>\n",
       "      <td>1.13</td>\n",
       "      <td>1.09</td>\n",
       "      <td>1.20</td>\n",
       "      <td>47</td>\n",
       "    </tr>\n",
       "    <tr>\n",
       "      <th>2</th>\n",
       "      <td>-1.11</td>\n",
       "      <td>-0.85</td>\n",
       "      <td>-0.83</td>\n",
       "      <td>23</td>\n",
       "    </tr>\n",
       "    <tr>\n",
       "      <th>3</th>\n",
       "      <td>-0.57</td>\n",
       "      <td>-0.57</td>\n",
       "      <td>-0.83</td>\n",
       "      <td>29</td>\n",
       "    </tr>\n",
       "  </tbody>\n",
       "</table>\n",
       "</div>"
      ],
      "text/plain": [
       "           length  wheel-base  width  cluster_size\n",
       "clusterid                                         \n",
       "0           -0.18       -0.25  -0.22            60\n",
       "1            1.13        1.09   1.20            47\n",
       "2           -1.11       -0.85  -0.83            23\n",
       "3           -0.57       -0.57  -0.83            29"
      ]
     },
     "execution_count": 202,
     "metadata": {},
     "output_type": "execute_result"
    }
   ],
   "source": [
    "values=['wheel-base','length','width']\n",
    "index =['clusterid']\n",
    "aggfunc={'wheel-base': np.mean,\n",
    "         'length': np.mean,\n",
    "         'width': np.mean}\n",
    "result = pd.pivot_table(df_scaled,values=values,\n",
    "                             index =index,\n",
    "                             aggfunc=aggfunc,\n",
    "                             fill_value=0)\n",
    "result['cluster_size'] = cluster_size\n",
    "result = result.round(2)\n",
    "result"
   ]
  },
  {
   "cell_type": "markdown",
   "id": "59aedb31",
   "metadata": {},
   "source": [
    "<b> Insights: </b>\n",
    "\n",
    "Classification on the basis of cluster size, cluster 0 is the larger cluster containing 60 data points followed by cluster 1 with 47 data points then cluster 3 with 29 data points and the last is cluster 2 with 23 data points\n",
    "\n",
    "We can notice that cluster 2 & 3 has lowest length, width & wheel base of the automobile model whereas cluster 1 has all the three features higher than other two."
   ]
  },
  {
   "cell_type": "code",
   "execution_count": 203,
   "id": "b6194d2e",
   "metadata": {},
   "outputs": [
    {
     "data": {
      "text/html": [
       "<div>\n",
       "<style scoped>\n",
       "    .dataframe tbody tr th:only-of-type {\n",
       "        vertical-align: middle;\n",
       "    }\n",
       "\n",
       "    .dataframe tbody tr th {\n",
       "        vertical-align: top;\n",
       "    }\n",
       "\n",
       "    .dataframe thead th {\n",
       "        text-align: right;\n",
       "    }\n",
       "</style>\n",
       "<table border=\"1\" class=\"dataframe\">\n",
       "  <thead>\n",
       "    <tr style=\"text-align: right;\">\n",
       "      <th></th>\n",
       "      <th>bore</th>\n",
       "      <th>height</th>\n",
       "      <th>stroke</th>\n",
       "      <th>cluster_size</th>\n",
       "    </tr>\n",
       "    <tr>\n",
       "      <th>clusterid</th>\n",
       "      <th></th>\n",
       "      <th></th>\n",
       "      <th></th>\n",
       "      <th></th>\n",
       "    </tr>\n",
       "  </thead>\n",
       "  <tbody>\n",
       "    <tr>\n",
       "      <th>0</th>\n",
       "      <td>0.12</td>\n",
       "      <td>-0.27</td>\n",
       "      <td>0.15</td>\n",
       "      <td>60</td>\n",
       "    </tr>\n",
       "    <tr>\n",
       "      <th>1</th>\n",
       "      <td>0.78</td>\n",
       "      <td>0.52</td>\n",
       "      <td>-0.06</td>\n",
       "      <td>47</td>\n",
       "    </tr>\n",
       "    <tr>\n",
       "      <th>2</th>\n",
       "      <td>-1.13</td>\n",
       "      <td>-0.82</td>\n",
       "      <td>0.06</td>\n",
       "      <td>23</td>\n",
       "    </tr>\n",
       "    <tr>\n",
       "      <th>3</th>\n",
       "      <td>-0.63</td>\n",
       "      <td>0.36</td>\n",
       "      <td>-0.26</td>\n",
       "      <td>29</td>\n",
       "    </tr>\n",
       "  </tbody>\n",
       "</table>\n",
       "</div>"
      ],
      "text/plain": [
       "           bore  height  stroke  cluster_size\n",
       "clusterid                                    \n",
       "0          0.12   -0.27    0.15            60\n",
       "1          0.78    0.52   -0.06            47\n",
       "2         -1.13   -0.82    0.06            23\n",
       "3         -0.63    0.36   -0.26            29"
      ]
     },
     "execution_count": 203,
     "metadata": {},
     "output_type": "execute_result"
    }
   ],
   "source": [
    "values=['height','bore','stroke']\n",
    "index =['clusterid']\n",
    "aggfunc={'height': np.mean,\n",
    "         'bore': np.mean,\n",
    "         'stroke': np.mean}\n",
    "result = pd.pivot_table(df_scaled,values=values,\n",
    "                             index =index,\n",
    "                             aggfunc=aggfunc,\n",
    "                             fill_value=0)\n",
    "result['cluster_size'] = cluster_size\n",
    "result = result.round(2)\n",
    "result"
   ]
  },
  {
   "cell_type": "markdown",
   "id": "d227bcc0",
   "metadata": {},
   "source": [
    "<b> Insights: </b>\n",
    "\n",
    "Cluster 1 has models with highest diameter of each wheel in the automobile (bore), with highest height but low number of phases in engine's cycle(stroke).\n",
    "\n",
    "Cluster 2 has models with lowest diameter of each wheel(bore), lowest height of the model but moderate number of phases in engine's cycle(stroke).\n",
    "\n",
    "Cluster 0 has models with less height but moderate diameter of each wheel and highest number of phases in engine's cycle of the model.\n",
    "\n",
    "Cluster 3 has models with moderate height but lowest diameter of each wheel in the automobile"
   ]
  },
  {
   "cell_type": "code",
   "execution_count": 204,
   "id": "2aa7177d",
   "metadata": {},
   "outputs": [
    {
     "data": {
      "text/html": [
       "<div>\n",
       "<style scoped>\n",
       "    .dataframe tbody tr th:only-of-type {\n",
       "        vertical-align: middle;\n",
       "    }\n",
       "\n",
       "    .dataframe tbody tr th {\n",
       "        vertical-align: top;\n",
       "    }\n",
       "\n",
       "    .dataframe thead th {\n",
       "        text-align: right;\n",
       "    }\n",
       "</style>\n",
       "<table border=\"1\" class=\"dataframe\">\n",
       "  <thead>\n",
       "    <tr style=\"text-align: right;\">\n",
       "      <th></th>\n",
       "      <th>compression-ratio</th>\n",
       "      <th>horsepower</th>\n",
       "      <th>peak-rpm</th>\n",
       "      <th>cluster_size</th>\n",
       "    </tr>\n",
       "    <tr>\n",
       "      <th>clusterid</th>\n",
       "      <th></th>\n",
       "      <th></th>\n",
       "      <th></th>\n",
       "      <th></th>\n",
       "    </tr>\n",
       "  </thead>\n",
       "  <tbody>\n",
       "    <tr>\n",
       "      <th>0</th>\n",
       "      <td>-0.36</td>\n",
       "      <td>-0.02</td>\n",
       "      <td>0.07</td>\n",
       "      <td>60</td>\n",
       "    </tr>\n",
       "    <tr>\n",
       "      <th>1</th>\n",
       "      <td>0.28</td>\n",
       "      <td>1.08</td>\n",
       "      <td>-0.01</td>\n",
       "      <td>47</td>\n",
       "    </tr>\n",
       "    <tr>\n",
       "      <th>2</th>\n",
       "      <td>0.71</td>\n",
       "      <td>-1.06</td>\n",
       "      <td>0.23</td>\n",
       "      <td>23</td>\n",
       "    </tr>\n",
       "    <tr>\n",
       "      <th>3</th>\n",
       "      <td>-0.28</td>\n",
       "      <td>-0.88</td>\n",
       "      <td>-0.30</td>\n",
       "      <td>29</td>\n",
       "    </tr>\n",
       "  </tbody>\n",
       "</table>\n",
       "</div>"
      ],
      "text/plain": [
       "           compression-ratio  horsepower  peak-rpm  cluster_size\n",
       "clusterid                                                       \n",
       "0                      -0.36       -0.02      0.07            60\n",
       "1                       0.28        1.08     -0.01            47\n",
       "2                       0.71       -1.06      0.23            23\n",
       "3                      -0.28       -0.88     -0.30            29"
      ]
     },
     "execution_count": 204,
     "metadata": {},
     "output_type": "execute_result"
    }
   ],
   "source": [
    "values=['compression-ratio','horsepower','peak-rpm']\n",
    "index =['clusterid']\n",
    "aggfunc={'compression-ratio': np.mean,\n",
    "         'horsepower': np.mean,\n",
    "         'peak-rpm': np.mean}\n",
    "result = pd.pivot_table(df_scaled,values=values,\n",
    "                             index =index,\n",
    "                             aggfunc=aggfunc,\n",
    "                             fill_value=0)\n",
    "result['cluster_size'] = cluster_size\n",
    "result = result.round(2)\n",
    "result"
   ]
  },
  {
   "cell_type": "markdown",
   "id": "931b2a73",
   "metadata": {},
   "source": [
    "<b> Insights: </b>\n",
    "\n",
    "Cluster 2 has models with highest volume of cylinder and chamber (compression-ratio) in the engine and low revolutions per minute (peak-rpm) but lowest power automobile (horsepower)  \n",
    "\n",
    "Cluster 1 has models with moderate volume of cylinder and chamber (compression-ratio) in the engine and low revolutions per minute (peak-rpm) but have highest power automobile (horsepower)  \n",
    "\n",
    "Cluster 0 has models with lowest volume of cylinder and chamber in the engine (compression-ratio), low power automobile (horsepower) but moderate revolutions per minute ((peak-rpm)\n",
    "\n",
    "Cluster 3 has models with low power automobile (horsepower),low volume of cylinder and chamber of the engine (compression-ratio) with lowest revolutions per minute (peak-rpm)"
   ]
  },
  {
   "cell_type": "code",
   "execution_count": 205,
   "id": "2242c9a5",
   "metadata": {},
   "outputs": [
    {
     "data": {
      "text/html": [
       "<div>\n",
       "<style scoped>\n",
       "    .dataframe tbody tr th:only-of-type {\n",
       "        vertical-align: middle;\n",
       "    }\n",
       "\n",
       "    .dataframe tbody tr th {\n",
       "        vertical-align: top;\n",
       "    }\n",
       "\n",
       "    .dataframe thead th {\n",
       "        text-align: right;\n",
       "    }\n",
       "</style>\n",
       "<table border=\"1\" class=\"dataframe\">\n",
       "  <thead>\n",
       "    <tr style=\"text-align: right;\">\n",
       "      <th></th>\n",
       "      <th>city-mpg</th>\n",
       "      <th>highway-mpg</th>\n",
       "      <th>price</th>\n",
       "      <th>cluster_size</th>\n",
       "    </tr>\n",
       "    <tr>\n",
       "      <th>clusterid</th>\n",
       "      <th></th>\n",
       "      <th></th>\n",
       "      <th></th>\n",
       "      <th></th>\n",
       "    </tr>\n",
       "  </thead>\n",
       "  <tbody>\n",
       "    <tr>\n",
       "      <th>0</th>\n",
       "      <td>-0.12</td>\n",
       "      <td>-0.12</td>\n",
       "      <td>-0.3</td>\n",
       "      <td>60</td>\n",
       "    </tr>\n",
       "    <tr>\n",
       "      <th>1</th>\n",
       "      <td>-0.98</td>\n",
       "      <td>-1.00</td>\n",
       "      <td>1.2</td>\n",
       "      <td>47</td>\n",
       "    </tr>\n",
       "    <tr>\n",
       "      <th>2</th>\n",
       "      <td>1.56</td>\n",
       "      <td>1.55</td>\n",
       "      <td>-0.8</td>\n",
       "      <td>23</td>\n",
       "    </tr>\n",
       "    <tr>\n",
       "      <th>3</th>\n",
       "      <td>0.60</td>\n",
       "      <td>0.64</td>\n",
       "      <td>-0.7</td>\n",
       "      <td>29</td>\n",
       "    </tr>\n",
       "  </tbody>\n",
       "</table>\n",
       "</div>"
      ],
      "text/plain": [
       "           city-mpg  highway-mpg  price  cluster_size\n",
       "clusterid                                            \n",
       "0             -0.12        -0.12   -0.3            60\n",
       "1             -0.98        -1.00    1.2            47\n",
       "2              1.56         1.55   -0.8            23\n",
       "3              0.60         0.64   -0.7            29"
      ]
     },
     "execution_count": 205,
     "metadata": {},
     "output_type": "execute_result"
    }
   ],
   "source": [
    "values=['city-mpg','highway-mpg','price']\n",
    "index =['clusterid']\n",
    "aggfunc={'city-mpg': np.mean,\n",
    "         'highway-mpg': np.mean,\n",
    "         'price': np.mean}\n",
    "result = pd.pivot_table(df_scaled,values=values,\n",
    "                             index =index,\n",
    "                             aggfunc=aggfunc,\n",
    "                             fill_value=0)\n",
    "result['cluster_size'] = cluster_size\n",
    "result = result.round(2)\n",
    "result"
   ]
  },
  {
   "cell_type": "markdown",
   "id": "4e80b143",
   "metadata": {},
   "source": [
    "<b> Insights: </b>\n",
    "\n",
    "Cluster 2 has cheapest automobile models (price) with highest scoring car in an average city (city-mpg) & highway (highway-mpg)\n",
    "\n",
    "Cluster 1 are the most expensive automobile models with lowest scoring car in an average city or highway as it is pretty obviuos that in an average city or highway the number of expensive cars would be less due to affordability of the citizens and road infrastructure\n",
    "\n",
    "Cluster 3 has moderate number of cars in average city and highway with moderate pricing\n",
    "\n",
    "Cluster 0 has low price automobile model with low score in city & highway and highest number of data points\n"
   ]
  },
  {
   "cell_type": "markdown",
   "id": "c462d80f",
   "metadata": {},
   "source": [
    "### CONCLUSION"
   ]
  },
  {
   "cell_type": "markdown",
   "id": "a471c6d3",
   "metadata": {},
   "source": [
    "<ul>\n",
    "    <li>Cluster 0: </li>\n",
    "    <li>Cluster 1: </li>\n",
    "    <li>Cluster 2: </li>\n",
    "    <li>Cluster 3: </li>\n",
    "\n",
    "</ul>    "
   ]
  },
  {
   "cell_type": "code",
   "execution_count": null,
   "id": "af8620f2",
   "metadata": {},
   "outputs": [],
   "source": []
  }
 ],
 "metadata": {
  "kernelspec": {
   "display_name": "Python 3 (ipykernel)",
   "language": "python",
   "name": "python3"
  },
  "language_info": {
   "codemirror_mode": {
    "name": "ipython",
    "version": 3
   },
   "file_extension": ".py",
   "mimetype": "text/x-python",
   "name": "python",
   "nbconvert_exporter": "python",
   "pygments_lexer": "ipython3",
   "version": "3.9.12"
  }
 },
 "nbformat": 4,
 "nbformat_minor": 5
}
